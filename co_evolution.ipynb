{
 "cells": [
  {
   "cell_type": "code",
   "execution_count": 1,
   "metadata": {},
   "outputs": [],
   "source": [
    "import numpy as np\n",
    "import matplotlib.pyplot as plt\n",
    "import matplotlib\n"
   ]
  },
  {
   "cell_type": "code",
   "execution_count": 2,
   "metadata": {},
   "outputs": [],
   "source": [
    "CHAR_MAPPING = {\n",
    "    \"x\" : -1,\n",
    "    \".\" : 0,\n",
    "    \"H\" : 1,\n",
    "    \"h\" : 2, \n",
    "    \"s\": 3\n",
    "}\n",
    "COLOR_MAPPING = [\"black\", \"white\", \"blue\", \"green\", \"red\"]\n",
    "MAP_SIMPLE_NAME = \"map.txt\"\n",
    "\n",
    "def load_map(mapname, char_mapping):\n",
    "    with open(mapname, 'r') as map_file:\n",
    "        lines = map_file.readlines()\n",
    "        width = int(lines[0])\n",
    "        height = int(lines[1])\n",
    "        map_numbers = [[char_mapping[chr] for chr in row[:-1]] for row in lines[2:]]\n",
    "    return np.array(map_numbers, dtype = np.int32)\n",
    "\n",
    "\n",
    "  \n",
    "    #plt.figure()\n",
    "    #plt.imshow(map , cmap = matplotlib.colors.ListedColormap(COLOR_MAPPING))\n",
    "\n",
    "    #plt.show()\n",
    "\n",
    "simple_map = load_map(MAP_SIMPLE_NAME, CHAR_MAPPING)\n",
    "hider_pos = np.asarray(np.where(simple_map == CHAR_MAPPING[\"h\"])).reshape(2)\n",
    "seeker_pos = np.asarray(np.where(simple_map == CHAR_MAPPING[\"s\"])).reshape(2)\n",
    "#start configuration\n",
    "MAP_START = np.copy(simple_map)\n",
    "MAP_START[hider_pos[0], hider_pos[1]] = CHAR_MAPPING[\".\"]\n",
    "MAP_START[seeker_pos[0], seeker_pos[1]] = CHAR_MAPPING[\".\"]\n",
    "\n",
    "\n"
   ]
  },
  {
   "cell_type": "code",
   "execution_count": 13,
   "metadata": {},
   "outputs": [
    {
     "data": {
      "image/png": "[encoded data removed]",
      "text/plain": [
       "<Figure size 432x288 with 1 Axes>"
      ]
     },
     "metadata": {
      "needs_background": "light"
     },
     "output_type": "display_data"
    }
   ],
   "source": [
    "f = plt.figure()\n",
    "graph1 = f.add_subplot(211)\n",
    "def plot_map(map):\n",
    "    clear_output(wait=True)\n",
    "    plt.figure()\n",
    "    plt.imshow(map , cmap = matplotlib.colors.ListedColormap(COLOR_MAPPING))\n",
    "    plt.show()\n",
    "\n",
    "def get_percepts(map_env, pos, agent = \"h\"):\n",
    "    VISION = 1\n",
    "    return map_env [pos[0] - VISION : pos[0] + VISION, pos[1] - VISION : pos[1] + VISION]\n",
    "\n",
    "ACTIONS = [[0,0], [-1,0], [1, 0], [0, -1], [0, 1]]\n",
    "\n",
    "def is_free(map_env, pos, agent):\n",
    "    if (agent == \"h\"):\n",
    "        return map_env[pos[0], pos[1]] in [CHAR_MAPPING[\".\"], CHAR_MAPPING[\"H\"], CHAR_MAPPING[\"h\"]]\n",
    "    return map_env[pos[0], pos[1]] in [CHAR_MAPPING[\".\"], CHAR_MAPPING[\"s\"]]\n",
    "\n",
    "\n",
    "def do_action(map_env, pos, action, agent):\n",
    "    new_pos = pos + ACTIONS[action]\n",
    "    #print(new_pos)\n",
    "    if is_free(map_env, new_pos, agent) and not np.all(new_pos == pos):\n",
    "        #print(True)\n",
    "        map_env[new_pos[0], new_pos[1]] = CHAR_MAPPING[agent]\n",
    "        map_env[pos[0], pos[1]] = MAP_START[pos[0], pos[1]]\n",
    "        return map_env, new_pos\n",
    "    else:\n",
    "        #print(False)\n",
    "        return map_env, pos\n",
    "\n",
    "\n",
    "\n",
    "\n",
    "def simulate_step(map_env, pos_hide, pos_seek, policy_hide, policy_seek, **kwargs):\n",
    "\n",
    "    action_hide = policy_hide(get_percepts(map_env, pos_hide, \"h\"),\"s\" **kwargs)\n",
    "    map_env, new_pos_hide = do_action(map_env, pos_hide, action_hide, \"h\")\n",
    "    #print(action_hide)\n",
    "    #plot_map(map_env)\n",
    "    action_seek = policy_seek(get_percepts(map_env, pos_seek, \"s\"), \"s\", **kwargs)\n",
    "    map_env, new_pos_seek = do_action(map_env, pos_seek, action_seek, \"s\")\n",
    "    #print(action_seek)\n",
    "    #plot_map(map_env)\n",
    "    return (map_env, new_pos_hide, new_pos_seek)\n",
    "\n",
    "import time\n",
    "from IPython.display import clear_output\n",
    "def eval_map_state():\n",
    "    pass\n",
    "\n",
    "def is_end(map_env, pos_hide, pos_seek):\n",
    "    pass\n",
    "\n",
    "def simulate(map_env, start_hide, start_seek, policy_hide, policy_seek, num_steps = 100, **kwargs):\n",
    "    pos_hide, pos_seek = start_hide, start_seek\n",
    "    for step in range(num_steps):\n",
    "        map_env, pos_hide, pos_seek = simulate_step(map_env, pos_hide, pos_seek, policy_hide, policy_seek, **kwargs)\n",
    "        time.sleep(0.03)\n",
    "        #print(pos_hide)\n",
    "        #print(pos_seek)\n",
    "        plot_map(map_env)\n",
    "        if(is_end(map_env, pos_hide, pos_seek)):\n",
    "            break\n",
    "    return eval_map_state(map_env, pos_hide, pos_seek)\n",
    "\n",
    "def random_policy(percepts, agent, **kwargs):\n",
    "    return np.random.randint(len(ACTIONS))\n",
    "#print(simple_map)\n",
    "\n",
    "simulate(np.copy(simple_map), hider_pos, seeker_pos, random_policy, random_policy)\n"
   ]
  },
  {
   "cell_type": "code",
   "execution_count": null,
   "metadata": {},
   "outputs": [],
   "source": [
    "#TODO implement policy as NN\n",
    "#TODO implement EA\n",
    "\n",
    "def NN_policy(percepts, agent, **kwargs):\n",
    "    if agent == \"h\":\n",
    "        network = kwargs.get(\"seek_net\")\n",
    "    else:\n",
    "        network = kwargs.get(\"hide_net\")\n",
    "    \n",
    "    output = network.activate(percepts.reshape(-1))\n",
    "    \n",
    "def "
   ]
  }
 ],
 "metadata": {
  "interpreter": {
   "hash": "886514321548a8e4bf1926f52a00fecc624bae8348bdf6e4fbd744143dc9ef89"
  },
  "kernelspec": {
   "display_name": "Python 3.9.12 64-bit (windows store)",
   "language": "python",
   "name": "python3"
  },
  "language_info": {
   "codemirror_mode": {
    "name": "ipython",
    "version": 3
   },
   "file_extension": ".py",
   "mimetype": "text/x-python",
   "name": "python",
   "nbconvert_exporter": "python",
   "pygments_lexer": "ipython3",
   "version": "3.9.12"
  },
  "orig_nbformat": 4
 },
 "nbformat": 4,
 "nbformat_minor": 2
}
