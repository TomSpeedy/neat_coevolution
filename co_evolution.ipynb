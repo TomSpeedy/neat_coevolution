{
 "cells": [
  {
   "cell_type": "markdown",
   "metadata": {},
   "source": [
    "## Import libraries"
   ]
  },
  {
   "cell_type": "code",
   "execution_count": 16,
   "metadata": {},
   "outputs": [],
   "source": [
    "import numpy as np\n",
    "import matplotlib.pyplot as plt\n",
    "import matplotlib\n",
    "import functools\n",
    "import time\n",
    "import os\n",
    "import neat\n",
    "import warnings\n",
    "import graphviz\n",
    "import visualize\n",
    "import random\n",
    "import glob\n",
    "from IPython.display import clear_output"
   ]
  },
  {
   "cell_type": "markdown",
   "metadata": {},
   "source": [
    "## Constants"
   ]
  },
  {
   "cell_type": "code",
   "execution_count": 2,
   "metadata": {},
   "outputs": [],
   "source": [
    "WALL      = \"x\"\n",
    "FREE_SPACE= \".\"\n",
    "SAFE_ZONE = \"H\"\n",
    "HIDER     = \"h\" \n",
    "SEEKER    = \"s\"\n",
    "\n",
    "CHAR_MAPPING = {\n",
    "    WALL      : -1,\n",
    "    FREE_SPACE:  0,\n",
    "    SAFE_ZONE :  1,\n",
    "    HIDER     :  2, \n",
    "    SEEKER    :  3\n",
    "}\n",
    "\n",
    "COLOR_MAPPING = [\"black\", \"white\", \"blue\", \"green\", \"red\"]\n",
    "\n",
    "MAP_SIMPLE_NAME = \"map.txt\"\n",
    "\n",
    "ACTIONS = [[-1,0], [1, 0], [0,-1], [0, 1]]\n",
    "VISION = 1\n",
    "SCENT = 5\n",
    "\n",
    "STATE_SEEK = 0"
   ]
  },
  {
   "cell_type": "markdown",
   "metadata": {},
   "source": [
    "## Map"
   ]
  },
  {
   "cell_type": "code",
   "execution_count": 3,
   "metadata": {},
   "outputs": [],
   "source": [
    "class Map:\n",
    "        \n",
    "    def __init__(self,mapname, char_mapping):\n",
    "        with open(mapname, 'r') as map_file:\n",
    "            lines = map_file.readlines()\n",
    "            # width = int(lines[0])\n",
    "            # height = int(lines[1])\n",
    "            map_numbers = [[char_mapping[chr] for chr in row[:-1]] for row in lines[2:]]\n",
    "        self.char_mapping =char_mapping\n",
    "        self.map = np.array(map_numbers, dtype = np.int32)\n",
    "        self.scent = np.zeros_like(self.map)\n",
    "        self.start_hider_pos = np.asarray(np.where(self.map == char_mapping[HIDER])).reshape(2)\n",
    "        self.start_seeker_pos = np.asarray(np.where(self.map == char_mapping[SEEKER])).reshape(2)\n",
    "        \n",
    "        self.map_layout = np.array(map_numbers, dtype = np.int32)\n",
    "        self.map_layout[self.start_hider_pos[0] ,self.start_hider_pos[1] ] = char_mapping[FREE_SPACE]\n",
    "        self.map_layout[self.start_seeker_pos[0],self.start_seeker_pos[1]] = char_mapping[FREE_SPACE]\n",
    "        \n",
    "        self.reset()\n",
    "    \n",
    "    def reset(self):\n",
    "        self.hider_pos  =self.start_hider_pos\n",
    "        self.seeker_pos =self.start_seeker_pos\n",
    "        self.map = np.copy(self.map_layout)\n",
    "        self.set_map_pos(self.hider_pos,  self.char_mapping[HIDER] )\n",
    "        self.set_map_pos(self.seeker_pos, self.char_mapping[SEEKER])\n",
    "\n",
    "    def get_map_layout_pos(self,pos):\n",
    "        return self.map_layout[pos[0], pos[1]]\n",
    "    \n",
    "    def set_map_pos(self,pos, value):\n",
    "        self.map[pos[0], pos[1]] = value\n",
    "    \n",
    "    def get_agent_pos(self, agent):\n",
    "        return self.hider_pos if agent ==HIDER else self.seeker_pos\n",
    "    \n",
    "    def set_agent_pos(self, agent, pos):\n",
    "        if agent ==HIDER:\n",
    "            self.hider_pos  =pos\n",
    "        else:\n",
    "            self.seeker_pos =pos\n",
    "    \n",
    "    def get_percepts(self, agent, vision = 1):\n",
    "        vision = VISION if agent ==HIDER else VISION\n",
    "        pos =self.get_agent_pos(agent)\n",
    "        percepts = self.map[\n",
    "            pos[0] - vision : pos[0] + vision + 1,\n",
    "            pos[1] - vision : pos[1] + vision + 1\n",
    "        ]\n",
    "        return percepts \n",
    "\n",
    "    def is_free(self, pos, agent):\n",
    "        map_pos =self.get_map_layout_pos(pos)\n",
    "        if (agent == HIDER):\n",
    "            return (\n",
    "                map_pos in [self.char_mapping[FREE_SPACE], self.char_mapping[SAFE_ZONE]] and\n",
    "                not np.all(pos == self.seeker_pos)\n",
    "            )\n",
    "        else:\n",
    "            return map_pos in [self.char_mapping[FREE_SPACE]]\n",
    "            \n",
    "    def move_agent(self, agent, new_pos):\n",
    "        pos = self.get_agent_pos(agent)\n",
    "        self.set_map_pos(pos,self.get_map_layout_pos(pos))\n",
    "        self.set_map_pos(new_pos,self.char_mapping[agent])\n",
    "        self.set_agent_pos( agent, new_pos)\n",
    "\n",
    "    def do_action(self, agent, action):\n",
    "        pos = self.get_agent_pos(agent)\n",
    "        new_pos = pos + ACTIONS[action]\n",
    "        if self.is_free(new_pos, agent):\n",
    "            self.move_agent(agent, new_pos)\n",
    "    \n",
    "    def is_end(self):\n",
    "        return np.all(self.hider_pos == self.seeker_pos)\n",
    "            \n",
    "MAP = Map(MAP_SIMPLE_NAME,CHAR_MAPPING)"
   ]
  },
  {
   "cell_type": "markdown",
   "metadata": {},
   "source": [
    "## Map visualization"
   ]
  },
  {
   "cell_type": "code",
   "execution_count": 50,
   "metadata": {},
   "outputs": [],
   "source": [
    "def plot_map_jupiter_notebook(map:Map,gen):\n",
    "    clear_output(wait=True)\n",
    "    plt.figure()\n",
    "    plt.title(f\"Generation {gen}\")\n",
    "    plt.imshow(map.map, cmap = matplotlib.colors.ListedColormap(COLOR_MAPPING))\n",
    "    plt.show()\n",
    "    \n",
    "class Map_plot:\n",
    "    def __init__(self, map:Map):\n",
    "        plt.ion()\n",
    "        self.fig, self.ax = plt.subplots()\n",
    "        self.img = self.ax.imshow(map.map , cmap = matplotlib.colors.ListedColormap(COLOR_MAPPING))\n",
    "        \n",
    "    def plot_map(self,map:Map, gen):\n",
    "        self.ax.set_title(f\"Generation {gen}\")\n",
    "        self.img.set_array(map.map)\n",
    "        plt.draw()\n",
    "        self.img.canvas.flush_events()\n",
    "\n",
    "class Map_log:\n",
    "    def __init__(self, log_name):\n",
    "        self.dir = os.path.join(\"logs\",log_name)\n",
    "\n",
    "        self.logs = []\n",
    "        files = glob.glob(os.path.join(self.dir,\"*.npy\"), recursive=True)\n",
    "        for f in files:\n",
    "            try:\n",
    "                os.remove(f)\n",
    "            except OSError as e:\n",
    "                print(\"Error: %s : %s\" % (f, e.strerror))\n",
    "        \n",
    "    def log_map(self,map:Map,gen):\n",
    "\n",
    "        self.logs.append([map.hider_pos,map.seeker_pos])\n",
    "        \n",
    "    def save_and_reset(self, name):\n",
    "        if not os.path.exists(self.dir):\n",
    "            os.makedirs(self.dir)\n",
    "        np.save(os.path.join(self.dir,name),self.logs)\n",
    "        self.logs = []"
   ]
  },
  {
   "cell_type": "markdown",
   "metadata": {},
   "source": [
    "## Evaluation"
   ]
  },
  {
   "cell_type": "code",
   "execution_count": 5,
   "metadata": {},
   "outputs": [],
   "source": [
    "def eval_map_state(map:Map):\n",
    "    dist = np.abs(map.hider_pos - map.seeker_pos).sum()\n",
    "\n",
    "    if map.get_map_layout_pos(map.hider_pos) == CHAR_MAPPING[SAFE_ZONE]:\n",
    "        state_hide = 0\n",
    "    elif map.is_end():\n",
    "        state_hide = -100000\n",
    "    elif dist == 1:\n",
    "        state_hide = -1000\n",
    "    else:\n",
    "        state_hide = (map.hider_pos**2).sum()\n",
    "\n",
    "    if  map.is_end():\n",
    "        state_seek = 100000\n",
    "    elif dist == 1:\n",
    "        state_seek = 1000\n",
    "    else:\n",
    "        state_seek = 0\n",
    "    return (state_hide+10, state_seek-10)\n",
    "\n",
    "\n",
    "def eval_map_state_hider(map:Map):\n",
    "    dist = np.abs(map.hider_pos - map.seeker_pos).sum()\n",
    "\n",
    "    if map.get_map_layout_pos(map.hider_pos) == CHAR_MAPPING[SAFE_ZONE]:\n",
    "        state_hide = 0\n",
    "    elif map.is_end():\n",
    "        state_hide = -100000\n",
    "    elif dist >= 1:\n",
    "        state_hide = dist ** 2\n",
    "    else:\n",
    "        state_hide = (map.hider_pos**2).sum()\n",
    "    return state_hide+100\n",
    "\n",
    "def eval_map_state_seeker(map:Map):\n",
    "    dist = np.abs(map.hider_pos - map.seeker_pos).sum()\n",
    "    \n",
    "    if  map.is_end():\n",
    "        state_seek = 100000\n",
    "    elif dist >= 1:\n",
    "        state_seek =  - dist**2 \n",
    "    else:\n",
    "        state_seek = 0\n",
    "    return  state_seek-100\n"
   ]
  },
  {
   "cell_type": "markdown",
   "metadata": {},
   "source": [
    "## Policies"
   ]
  },
  {
   "cell_type": "code",
   "execution_count": 6,
   "metadata": {},
   "outputs": [],
   "source": [
    "\n",
    "def random_policy(map:Map, agent, **kwargs):\n",
    "    return np.random.randint(len(ACTIONS))\n",
    "\n",
    "\n",
    "def NN_policy_simple(map:Map, agent, **kwargs):\n",
    "    pos = map.get_agent_pos(agent)\n",
    "    if agent == SEEKER:\n",
    "        network = kwargs.get(\"seek_net\")\n",
    "    else:\n",
    "        network = kwargs.get(\"hide_net\")\n",
    "\n",
    "\n",
    "    output = network.activate(map.get_percepts(agent).reshape(-1))\n",
    "    while not map.is_free(pos, agent):\n",
    "        output[np.argmax(output)] = -np.inf\n",
    "    return np.argmax(output)\n",
    "\n",
    "def NN_policy(map:Map, agent, **kwargs):\n",
    "    perc_flat = map.get_percepts(agent).reshape(-1)\n",
    "\n",
    "    one_hot_in = np.zeros((len(perc_flat), len(map.char_mapping)))\n",
    "    one_hot_in[np.arange(len(perc_flat)), perc_flat + 1] = 1 #WARNING value dependent\n",
    "\n",
    "    pos = map.get_agent_pos(agent)\n",
    "    if agent == SEEKER:\n",
    "        network = kwargs.get(\"seek_net\")\n",
    "    else:\n",
    "        network = kwargs.get(\"hide_net\")\n",
    "        \n",
    "    output = np.copy(network.activate(one_hot_in.reshape(-1)))\n",
    "    #output = np.copy(network.activate(percepts.reshape(-1)/3))\n",
    "\n",
    "    #WARNING if not working coment region\n",
    "    #region COMMENT \n",
    "    while not map.is_free(\n",
    "            pos + ACTIONS[np.argmax(output)],\n",
    "            agent\n",
    "        ): \n",
    "        output[np.argmax(output)] = -np.inf\n",
    "\n",
    "    #end region\n",
    "\n",
    "    return np.argmax(output)\n"
   ]
  },
  {
   "cell_type": "markdown",
   "metadata": {},
   "source": [
    "## Simulation"
   ]
  },
  {
   "cell_type": "code",
   "execution_count": 7,
   "metadata": {},
   "outputs": [],
   "source": [
    "def simulate_step(map:Map, agent, policy, **kwargs):\n",
    "\n",
    "    action = policy(map, agent, **kwargs)\n",
    "    map.do_action(agent, action)      \n",
    "\n",
    "def simulate(map:Map, map_eval, policy_hide, policy_seek, plot_func=None, num_steps = 100, **kwargs):\n",
    "    SEEK_STATE = 0\n",
    "    HIDE_STATE = 0\n",
    "    map.reset()\n",
    "    score = int(0)\n",
    "    for step in range(num_steps):\n",
    "\n",
    "        simulate_step(map, SEEKER, policy_seek, **kwargs)\n",
    "        if(not map.is_end()):\n",
    "            simulate_step(map, HIDER, policy_hide, **kwargs)\n",
    "\n",
    "        if plot_func!=None:\n",
    "            plot_func(map, kwargs.get(\"generation\"))\n",
    "        if map_eval!=None:\n",
    "            score += map_eval(map)\n",
    "\n",
    "        if(map.is_end()):\n",
    "            break\n",
    "    return score\n"
   ]
  },
  {
   "cell_type": "markdown",
   "metadata": {},
   "source": [
    "### Simulation test\n"
   ]
  },
  {
   "cell_type": "code",
   "execution_count": 8,
   "metadata": {},
   "outputs": [
    {
     "data": {
      "image/png": "[encoded data removed]",
      "text/plain": [
       "<Figure size 432x288 with 1 Axes>"
      ]
     },
     "metadata": {
      "needs_background": "light"
     },
     "output_type": "display_data"
    },
    {
     "data": {
      "text/plain": [
       "0"
      ]
     },
     "execution_count": 8,
     "metadata": {},
     "output_type": "execute_result"
    }
   ],
   "source": [
    "simulate(\n",
    "    MAP, None,\n",
    "    random_policy, random_policy,\n",
    "    plot_map_jupiter_notebook,\n",
    "    generation = 1, num_steps=50)"
   ]
  },
  {
   "cell_type": "markdown",
   "metadata": {},
   "source": [
    "### Log test"
   ]
  },
  {
   "cell_type": "code",
   "execution_count": 51,
   "metadata": {},
   "outputs": [
    {
     "name": "stdout",
     "output_type": "stream",
     "text": [
      "['logs\\\\Test\\\\random copy 2.npy', 'logs\\\\Test\\\\random copy 3.npy', 'logs\\\\Test\\\\random copy 4.npy', 'logs\\\\Test\\\\random copy.npy', 'logs\\\\Test\\\\random.npy']\n"
     ]
    }
   ],
   "source": [
    "log = Map_log(\"Test\")\n",
    "\n",
    "simulate(\n",
    "    MAP, None,\n",
    "    random_policy, random_policy,\n",
    "    log.log_map,\n",
    "    generation = 1, num_steps=50)\n",
    "\n",
    "log.save_and_reset(\"random\")"
   ]
  },
  {
   "cell_type": "markdown",
   "metadata": {},
   "source": [
    "## NEAT\n",
    "\n",
    "### Constants"
   ]
  },
  {
   "cell_type": "code",
   "execution_count": 22,
   "metadata": {},
   "outputs": [],
   "source": [
    "CONFIG_PATH = 'config-feedforward'\n",
    "\n",
    "#TODO fic parttools last two arguments\n",
    "FIT_SIMULATION_STEPS = 30\n",
    "EPOCHS = 40\n",
    "GENERATION = 20\n",
    "POP_LEN = 50\n",
    "NUM_OPONENTS = 8\n",
    "\n",
    "SEEKER_FUNC=eval_map_state_seeker\n",
    "HIDER_FUNC =eval_map_state_hider\n",
    "POLICY_SEEKER =NN_policy\n",
    "POLICY_HIDER =NN_policy "
   ]
  },
  {
   "cell_type": "markdown",
   "metadata": {},
   "source": [
    "### Fitness"
   ]
  },
  {
   "cell_type": "code",
   "execution_count": 25,
   "metadata": {},
   "outputs": [],
   "source": [
    "def fitness_seek(genomes, config, map, hide_nets):\n",
    "    #print(\"FITNESS SEEK\")\n",
    "    fitness = 0\n",
    "    for genome_id, genome in genomes:        \n",
    "        net = neat.nn.FeedForwardNetwork.create(genome, config)\n",
    "        for oponent_gene in hide_nets:\n",
    "            fitness += int(simulate(\n",
    "                map, SEEKER_FUNC,\n",
    "                POLICY_HIDER,POLICY_SEEKER,\n",
    "                num_steps = FIT_SIMULATION_STEPS, \n",
    "                seek_net = net,\n",
    "                hide_net = neat.nn.FeedForwardNetwork.create(oponent_gene, config)\n",
    "            ))\n",
    "    genome.fitness = fitness\n",
    "\n",
    "def fitness_hide(genomes, config, map, seek_nets):\n",
    "    #print(\"FITNESS HIDE\")\n",
    "    fitness = 0\n",
    "    for genome_id, genome in genomes:     \n",
    "        net = neat.nn.FeedForwardNetwork.create(genome, config)   \n",
    "        for oponent_gene in seek_nets:\n",
    "            fitness += int(simulate(\n",
    "            map, HIDER_FUNC,\n",
    "            POLICY_HIDER,POLICY_SEEKER,\n",
    "            num_steps = FIT_SIMULATION_STEPS, \n",
    "            seek_net = neat.nn.FeedForwardNetwork.create(oponent_gene, config),\n",
    "            hide_net = net))\n",
    "    genome.fitness = fitness"
   ]
  },
  {
   "cell_type": "markdown",
   "metadata": {},
   "source": [
    "### Evolution"
   ]
  },
  {
   "cell_type": "code",
   "execution_count": 26,
   "metadata": {},
   "outputs": [
    {
     "name": "stdout",
     "output_type": "stream",
     "text": [
      "\n",
      " ****** Running generation 0 ****** \n",
      "\n"
     ]
    },
    {
     "ename": "TypeError",
     "evalue": "'>' not supported between instances of 'NoneType' and 'NoneType'",
     "output_type": "error",
     "traceback": [
      "\u001b[1;31m---------------------------------------------------------------------------\u001b[0m",
      "\u001b[1;31mTypeError\u001b[0m                                 Traceback (most recent call last)",
      "\u001b[1;32m~\\AppData\\Local\\Temp/ipykernel_1784/3370692152.py\u001b[0m in \u001b[0;36m<module>\u001b[1;34m\u001b[0m\n\u001b[0;32m     78\u001b[0m \u001b[1;33m\u001b[0m\u001b[0m\n\u001b[0;32m     79\u001b[0m \u001b[1;33m\u001b[0m\u001b[0m\n\u001b[1;32m---> 80\u001b[1;33m \u001b[0mwinner_hide\u001b[0m\u001b[1;33m,\u001b[0m \u001b[0mwinner_seek\u001b[0m\u001b[1;33m,\u001b[0m \u001b[0mconfig\u001b[0m \u001b[1;33m=\u001b[0m \u001b[0mrun_evolution\u001b[0m\u001b[1;33m(\u001b[0m\u001b[0mCONFIG_PATH\u001b[0m\u001b[1;33m,\u001b[0m \u001b[0mMAP\u001b[0m\u001b[1;33m,\u001b[0m \u001b[0mepochs\u001b[0m\u001b[1;33m=\u001b[0m\u001b[0mEPOCHS\u001b[0m\u001b[1;33m,\u001b[0m \u001b[0mlog_name\u001b[0m\u001b[1;33m=\u001b[0m\u001b[1;34m\"Neat_Test\"\u001b[0m\u001b[1;33m)\u001b[0m\u001b[1;33m\u001b[0m\u001b[1;33m\u001b[0m\u001b[0m\n\u001b[0m\u001b[0;32m     81\u001b[0m \u001b[1;31m#\u001b[0m\u001b[1;33m\u001b[0m\u001b[1;33m\u001b[0m\u001b[0m\n\u001b[0;32m     82\u001b[0m     \u001b[1;31m##TODO adjust below\u001b[0m\u001b[1;33m\u001b[0m\u001b[1;33m\u001b[0m\u001b[0m\n",
      "\u001b[1;32m~\\AppData\\Local\\Temp/ipykernel_1784/3370692152.py\u001b[0m in \u001b[0;36mrun_evolution\u001b[1;34m(config_file, map, epochs, log_name, log_step)\u001b[0m\n\u001b[0;32m     37\u001b[0m             \u001b[0mfitness_seek\u001b[0m\u001b[1;33m,\u001b[0m \u001b[0mmap\u001b[0m\u001b[1;33m=\u001b[0m \u001b[0mmap\u001b[0m\u001b[1;33m,\u001b[0m \u001b[0mhide_nets\u001b[0m \u001b[1;33m=\u001b[0m \u001b[0mselected_hide_winners\u001b[0m\u001b[1;33m\u001b[0m\u001b[1;33m\u001b[0m\u001b[0m\n\u001b[0;32m     38\u001b[0m         )\n\u001b[1;32m---> 39\u001b[1;33m         \u001b[0mwinner_seek\u001b[0m \u001b[1;33m=\u001b[0m \u001b[0mseek_pop\u001b[0m\u001b[1;33m.\u001b[0m\u001b[0mrun\u001b[0m\u001b[1;33m(\u001b[0m\u001b[0mfit_seek_fixed\u001b[0m\u001b[1;33m,\u001b[0m \u001b[0mGENERATION\u001b[0m\u001b[1;33m)\u001b[0m\u001b[1;33m\u001b[0m\u001b[1;33m\u001b[0m\u001b[0m\n\u001b[0m\u001b[0;32m     40\u001b[0m         \u001b[0mseek_winners\u001b[0m\u001b[1;33m.\u001b[0m\u001b[0mappend\u001b[0m\u001b[1;33m(\u001b[0m\u001b[0mwinner_seek\u001b[0m\u001b[1;33m)\u001b[0m\u001b[1;33m\u001b[0m\u001b[1;33m\u001b[0m\u001b[0m\n\u001b[0;32m     41\u001b[0m         \u001b[0mseek_pop\u001b[0m \u001b[1;33m=\u001b[0m \u001b[0mneat\u001b[0m\u001b[1;33m.\u001b[0m\u001b[0mcheckpoint\u001b[0m\u001b[1;33m.\u001b[0m\u001b[0mCheckpointer\u001b[0m\u001b[1;33m.\u001b[0m\u001b[0mrestore_checkpoint\u001b[0m\u001b[1;33m(\u001b[0m\u001b[1;34m\"neat-checkpoint-\"\u001b[0m \u001b[1;33m+\u001b[0m \u001b[0mstr\u001b[0m\u001b[1;33m(\u001b[0m \u001b[0mGENERATION\u001b[0m \u001b[1;33m-\u001b[0m \u001b[1;36m1\u001b[0m\u001b[1;33m)\u001b[0m \u001b[1;33m)\u001b[0m\u001b[1;33m\u001b[0m\u001b[1;33m\u001b[0m\u001b[0m\n",
      "\u001b[1;32m~\\AppData\\Local\\Packages\\PythonSoftwareFoundation.Python.3.9_qbz5n2kfra8p0\\LocalCache\\local-packages\\Python39\\site-packages\\neat\\population.py\u001b[0m in \u001b[0;36mrun\u001b[1;34m(self, fitness_function, n)\u001b[0m\n\u001b[0;32m     92\u001b[0m             \u001b[0mbest\u001b[0m \u001b[1;33m=\u001b[0m \u001b[1;32mNone\u001b[0m\u001b[1;33m\u001b[0m\u001b[1;33m\u001b[0m\u001b[0m\n\u001b[0;32m     93\u001b[0m             \u001b[1;32mfor\u001b[0m \u001b[0mg\u001b[0m \u001b[1;32min\u001b[0m \u001b[0mitervalues\u001b[0m\u001b[1;33m(\u001b[0m\u001b[0mself\u001b[0m\u001b[1;33m.\u001b[0m\u001b[0mpopulation\u001b[0m\u001b[1;33m)\u001b[0m\u001b[1;33m:\u001b[0m\u001b[1;33m\u001b[0m\u001b[1;33m\u001b[0m\u001b[0m\n\u001b[1;32m---> 94\u001b[1;33m                 \u001b[1;32mif\u001b[0m \u001b[0mbest\u001b[0m \u001b[1;32mis\u001b[0m \u001b[1;32mNone\u001b[0m \u001b[1;32mor\u001b[0m \u001b[0mg\u001b[0m\u001b[1;33m.\u001b[0m\u001b[0mfitness\u001b[0m \u001b[1;33m>\u001b[0m \u001b[0mbest\u001b[0m\u001b[1;33m.\u001b[0m\u001b[0mfitness\u001b[0m\u001b[1;33m:\u001b[0m\u001b[1;33m\u001b[0m\u001b[1;33m\u001b[0m\u001b[0m\n\u001b[0m\u001b[0;32m     95\u001b[0m                     \u001b[0mbest\u001b[0m \u001b[1;33m=\u001b[0m \u001b[0mg\u001b[0m\u001b[1;33m\u001b[0m\u001b[1;33m\u001b[0m\u001b[0m\n\u001b[0;32m     96\u001b[0m             \u001b[0mself\u001b[0m\u001b[1;33m.\u001b[0m\u001b[0mreporters\u001b[0m\u001b[1;33m.\u001b[0m\u001b[0mpost_evaluate\u001b[0m\u001b[1;33m(\u001b[0m\u001b[0mself\u001b[0m\u001b[1;33m.\u001b[0m\u001b[0mconfig\u001b[0m\u001b[1;33m,\u001b[0m \u001b[0mself\u001b[0m\u001b[1;33m.\u001b[0m\u001b[0mpopulation\u001b[0m\u001b[1;33m,\u001b[0m \u001b[0mself\u001b[0m\u001b[1;33m.\u001b[0m\u001b[0mspecies\u001b[0m\u001b[1;33m,\u001b[0m \u001b[0mbest\u001b[0m\u001b[1;33m)\u001b[0m\u001b[1;33m\u001b[0m\u001b[1;33m\u001b[0m\u001b[0m\n",
      "\u001b[1;31mTypeError\u001b[0m: '>' not supported between instances of 'NoneType' and 'NoneType'"
     ]
    }
   ],
   "source": [
    "def run_evolution(config_file, map: Map, epochs = 80, log_name=None, log_step= 10 ):\n",
    "    # Load configuration.\n",
    "    config = neat.Config(neat.DefaultGenome, neat.DefaultReproduction,\n",
    "                         neat.DefaultSpeciesSet, neat.DefaultStagnation,\n",
    "                         config_file)\n",
    "\n",
    "    # Create the population, which is the top-level object for a NEAT run.\n",
    "    seek_pop = neat.Population(config)\n",
    "    seek_pop.add_reporter(neat.StdOutReporter(True))\n",
    "    stats_s = neat.StatisticsReporter()\n",
    "    seek_pop.add_reporter(stats_s)\n",
    "    seek_pop.add_reporter(neat.Checkpointer(GENERATION))\n",
    "\n",
    "    hide_pop = neat.Population(config)\n",
    "    hide_pop.add_reporter(neat.StdOutReporter(True))\n",
    "    stats_h = neat.StatisticsReporter()\n",
    "    hide_pop.add_reporter(stats_h)\n",
    "    hide_pop.add_reporter(neat.Checkpointer(GENERATION))\n",
    "\n",
    "    winner_seek = neat.DefaultGenome(config)\n",
    "    winner_hide = neat.DefaultGenome(config)\n",
    "\n",
    "    map_log = None\n",
    "    if log_name!=None:\n",
    "        map_log = Map_log(log_name)\n",
    "\n",
    "    hide_winners = [winner_hide]\n",
    "    seek_winners = [winner_seek]\n",
    "\n",
    "\n",
    "    for epoch in range(epochs):\n",
    "        # Run for up to 300 generations.\n",
    "        log = map_log!=None and ((epoch % log_step)==0)\n",
    "        #Seeker evolution\n",
    "        selected_hide_winners = random.choices(hide_winners, k = NUM_OPONENTS)\n",
    "        fit_seek_fixed = functools.partial(\n",
    "            fitness_seek, map= map, hide_nets = selected_hide_winners\n",
    "        )\n",
    "        winner_seek = seek_pop.run(fit_seek_fixed, GENERATION)\n",
    "        seek_winners.append(winner_seek)\n",
    "        seek_pop = neat.checkpoint.Checkpointer.restore_checkpoint(\"neat-checkpoint-\" + str( GENERATION - 1) )\n",
    "        seek_pop.add_reporter(neat.StdOutReporter(True))\n",
    "        stats_s = neat.StatisticsReporter()\n",
    "        seek_pop.add_reporter(stats_s)\n",
    "\n",
    "        if log:\n",
    "            simulate(\n",
    "                map,None,POLICY_HIDER, POLICY_SEEKER, plot_func=map_log.log_map,\n",
    "                num_steps = FIT_SIMULATION_STEPS,\n",
    "                hide_net = neat.nn.FeedForwardNetwork.create(winner_hide,config),\n",
    "                seek_net = neat.nn.FeedForwardNetwork.create(winner_seek,config)\n",
    "            )\n",
    "            map_log.save_and_reset(str(epoch*GENERATION)+\"Seeker\")\n",
    "\n",
    "        #Hider evolution\n",
    "        selected_seek_winners = random.choices(seek_winners, k = NUM_OPONENTS)\n",
    "        fit_hide_fixed = functools.partial(\n",
    "            fitness_hide, map= map, seek_nets = selected_seek_winners\n",
    "        )\n",
    "        winner_hide = hide_pop.run(fit_hide_fixed, GENERATION)\n",
    "\n",
    "        \n",
    "        hide_pop = neat.checkpoint.Checkpointer.restore_checkpoint(\"neat-checkpoint-\" + str( GENERATION - 1) )\n",
    "        hide_pop.add_reporter(neat.StdOutReporter(True))\n",
    "        stats_h = neat.StatisticsReporter()\n",
    "        hide_pop.add_reporter(stats_h)\n",
    "        \n",
    "        if log:\n",
    "            simulate(\n",
    "                map,None,POLICY_HIDER, POLICY_SEEKER, plot_func=map_log.log_map,\n",
    "                num_steps = FIT_SIMULATION_STEPS,\n",
    "                hide_net = neat.nn.FeedForwardNetwork.create(winner_hide,config),\n",
    "                seek_net = neat.nn.FeedForwardNetwork.create(winner_seek,config)\n",
    "            )\n",
    "            map_log.save_and_reset(str(epoch*GENERATION)+\"Hider\")\n",
    "        \n",
    "    return (winner_hide, winner_seek, config)  \n",
    "    \n",
    "\n",
    "winner_hide, winner_seek, config = run_evolution(CONFIG_PATH, MAP, epochs=EPOCHS, log_name=\"Neat_Test\")\n",
    "#\n",
    "    ##TODO adjust below\n",
    "    ## Display the winning genome.\n",
    "    #print('\\nBest genome:\\n{!s}'.format(winner))\n",
    "#\n",
    "    ## Show output of the most fit genome against training data.\n",
    "    #print('\\nOutput:')\n",
    "    #winner_net = neat.nn.FeedForwardNetwork.create(winner, config)\n",
    "    ##for xi, xo in zip(xor_inputs, xor_outputs):\n",
    "    ##    output = winner_net.activate(xi)\n",
    "    ##    print(\"input {!r}, expected output {!r}, got {!r}\".format(xi, xo, output))\n",
    "#\n",
    "    #node_names = {-1: 'A', -2: 'B', 0: 'A XOR B'}\n",
    "    #visualize.draw_net(config, winner, True, node_names=node_names)\n",
    "    #visualize.draw_net(config, winner, True, node_names=node_names, prune_unused=True)\n",
    "    #visualize.plot_stats(stats, ylog=False, view=True)\n",
    "    #visualize.plot_species(stats, view=True)\n",
    "#\n",
    "    #p = neat.Checkpointer.restore_checkpoint('neat-checkpoint-4')\n",
    "    #p.run(eval_genomes, 10)"
   ]
  },
  {
   "cell_type": "code",
   "execution_count": null,
   "metadata": {},
   "outputs": [],
   "source": [
    "def draw_net(config, genome, view=False, filename=None, node_names=None, show_disabled=True, prune_unused=False,\n",
    "             node_colors=None, fmt='svg'):\n",
    "    \"\"\" Receives a genome and draws a neural network with arbitrary topology. \"\"\"\n",
    "    # Attributes for network nodes.\n",
    "    if graphviz is None:\n",
    "        warnings.warn(\"This display is not available due to a missing optional dependency (graphviz)\")\n",
    "        return\n",
    "\n",
    "    # If requested, use a copy of the genome which omits all components that won't affect the output.\n",
    "    if prune_unused:\n",
    "        genome = genome.get_pruned_copy(config.genome_config)\n",
    "\n",
    "    if node_names is None:\n",
    "        node_names = {}\n",
    "\n",
    "    assert type(node_names) is dict\n",
    "\n",
    "    if node_colors is None:\n",
    "        node_colors = {}\n",
    "\n",
    "    assert type(node_colors) is dict\n",
    "\n",
    "    node_attrs = {\n",
    "        'shape': 'circle',\n",
    "        'fontsize': '9',\n",
    "        'height': '0.2',\n",
    "        'width': '0.2'}\n",
    "\n",
    "    dot = graphviz.Digraph(format=fmt, node_attr=node_attrs)\n",
    "\n",
    "    inputs = set()\n",
    "    for k in config.genome_config.input_keys:\n",
    "        inputs.add(k)\n",
    "        name = node_names.get(k, str(k))\n",
    "        input_attrs = {'style': 'filled', 'shape': 'box', 'fillcolor': node_colors.get(k, 'lightgray')}\n",
    "        dot.node(name, _attributes=input_attrs)\n",
    "\n",
    "    outputs = set()\n",
    "    for k in config.genome_config.output_keys:\n",
    "        outputs.add(k)\n",
    "        name = node_names.get(k, str(k))\n",
    "        node_attrs = {'style': 'filled', 'fillcolor': node_colors.get(k, 'lightblue')}\n",
    "\n",
    "        dot.node(name, _attributes=node_attrs)\n",
    "\n",
    "    used_nodes = set(genome.nodes.keys())\n",
    "    for n in used_nodes:\n",
    "        if n in inputs or n in outputs:\n",
    "            continue\n",
    "\n",
    "        attrs = {'style': 'filled',\n",
    "                 'fillcolor': node_colors.get(n, 'white')}\n",
    "        dot.node(str(n), _attributes=attrs)\n",
    "\n",
    "    for cg in genome.connections.values():\n",
    "        if cg.enabled or show_disabled:\n",
    "            # if cg.input not in used_nodes or cg.output not in used_nodes:\n",
    "            #    continue\n",
    "            input, output = cg.key\n",
    "            a = node_names.get(input, str(input))\n",
    "            b = node_names.get(output, str(output))\n",
    "            style = 'solid' if cg.enabled else 'dotted'\n",
    "            color = 'green' if cg.weight > 0 else 'red'\n",
    "            width = str(0.1 + abs(cg.weight / 5.0))\n",
    "            dot.edge(a, b, _attributes={'style': style, 'color': color, 'penwidth': width})\n",
    "\n",
    "    dot.render(filename, view=view)\n",
    "\n",
    "    return dot\n",
    "\n",
    "res = draw_net(config, winner_hide, True)"
   ]
  },
  {
   "cell_type": "code",
   "execution_count": null,
   "metadata": {},
   "outputs": [
    {
     "data": {
      "image/png": "[encoded data removed]",
      "text/plain": [
       "<Figure size 432x288 with 1 Axes>"
      ]
     },
     "metadata": {
      "needs_background": "light"
     },
     "output_type": "display_data"
    },
    {
     "data": {
      "text/plain": [
       "array([ 70494., -60000.])"
      ]
     },
     "execution_count": 157,
     "metadata": {},
     "output_type": "execute_result"
    }
   ],
   "source": [
    "simulate(\n",
    "    MAP, None,  \n",
    "    NN_policy, NN_policy,\n",
    "    plot_func=plot_map_jupiter_notebook, num_steps=100,      \n",
    "    hide_net = neat.nn.FeedForwardNetwork.create(winner_hide, config),    \n",
    "    seek_net = neat.nn.FeedForwardNetwork.create(winner_seek, config),  \n",
    "    generation = GENERATION * EPOCHS,\n",
    ")"
   ]
  }
 ],
 "metadata": {
  "interpreter": {
   "hash": "886514321548a8e4bf1926f52a00fecc624bae8348bdf6e4fbd744143dc9ef89"
  },
  "kernelspec": {
   "display_name": "Python 3.9.12 64-bit (windows store)",
   "language": "python",
   "name": "python3"
  },
  "language_info": {
   "codemirror_mode": {
    "name": "ipython",
    "version": 3
   },
   "file_extension": ".py",
   "mimetype": "text/x-python",
   "name": "python",
   "nbconvert_exporter": "python",
   "pygments_lexer": "ipython3",
   "version": "3.9.12"
  },
  "orig_nbformat": 4
 },
 "nbformat": 4,
 "nbformat_minor": 2
}
