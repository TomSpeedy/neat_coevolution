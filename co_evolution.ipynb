{
 "cells": [
  {
   "cell_type": "markdown",
   "metadata": {},
   "source": [
    "## Import libraries"
   ]
  },
  {
   "cell_type": "code",
   "execution_count": 74,
   "metadata": {},
   "outputs": [],
   "source": [
    "import numpy as np\n",
    "import matplotlib.pyplot as plt\n",
    "import matplotlib\n",
    "import functools\n",
    "import time\n",
    "import os\n",
    "import neat\n",
    "from IPython.display import clear_output"
   ]
  },
  {
   "cell_type": "markdown",
   "metadata": {},
   "source": [
    "## Constants"
   ]
  },
  {
   "cell_type": "code",
   "execution_count": 75,
   "metadata": {},
   "outputs": [],
   "source": [
    "WALL      = \"x\"\n",
    "FREE_SPACE= \".\"\n",
    "SAFE_ZONE = \"H\"\n",
    "HIDER     = \"h\" \n",
    "SEEKER    = \"s\"\n",
    "\n",
    "CHAR_MAPPING = {\n",
    "    WALL      : -1,\n",
    "    FREE_SPACE:  0,\n",
    "    SAFE_ZONE :  1,\n",
    "    HIDER     :  2, \n",
    "    SEEKER    :  3\n",
    "}\n",
    "\n",
    "COLOR_MAPPING = [\"black\", \"white\", \"blue\", \"green\", \"red\"]\n",
    "\n",
    "MAP_SIMPLE_NAME = \"map.txt\"\n",
    "\n",
    "ACTIONS = [[0,0], [-1,0], [1, 0], [0,-1], [0, 1]]\n",
    "VISION = 1\n",
    "SCENT = 5\n",
    "\n",
    "STATE_SEEK = 0"
   ]
  },
  {
   "cell_type": "markdown",
   "metadata": {},
   "source": [
    "## Map"
   ]
  },
  {
   "cell_type": "code",
   "execution_count": 76,
   "metadata": {},
   "outputs": [],
   "source": [
    "class Map:\n",
    "        \n",
    "    def __init__(self,mapname, char_mapping):\n",
    "        with open(mapname, 'r') as map_file:\n",
    "            lines = map_file.readlines()\n",
    "            # width = int(lines[0])\n",
    "            # height = int(lines[1])\n",
    "            map_numbers = [[char_mapping[chr] for chr in row[:-1]] for row in lines[2:]]\n",
    "        self.char_mapping =char_mapping\n",
    "        self.map = np.array(map_numbers, dtype = np.int32)\n",
    "        self.scent = np.zeros_like(self.map)\n",
    "        self.start_hider_pos = np.asarray(np.where(self.map == char_mapping[HIDER])).reshape(2)\n",
    "        self.start_seeker_pos = np.asarray(np.where(self.map == char_mapping[SEEKER])).reshape(2)\n",
    "        \n",
    "        self.map_layout = np.array(map_numbers, dtype = np.int32)\n",
    "        self.map_layout[self.start_hider_pos[0] ,self.start_hider_pos[1] ] = char_mapping[FREE_SPACE]\n",
    "        self.map_layout[self.start_seeker_pos[0],self.start_seeker_pos[1]] = char_mapping[FREE_SPACE]\n",
    "        \n",
    "        self.reset()\n",
    "    \n",
    "    def reset(self):\n",
    "        self.hider_pos  =self.start_hider_pos\n",
    "        self.seeker_pos =self.start_seeker_pos\n",
    "        self.map = np.copy(self.map_layout)\n",
    "        self.set_map_pos(self.hider_pos,  self.char_mapping[HIDER] )\n",
    "        self.set_map_pos(self.seeker_pos, self.char_mapping[SEEKER])\n",
    "\n",
    "    def get_map_layout_pos(self,pos):\n",
    "        return self.map_layout[pos[0], pos[1]]\n",
    "    \n",
    "    def set_map_pos(self,pos, value):\n",
    "        self.map[pos[0], pos[1]] = value\n",
    "    \n",
    "    def get_agent_pos(self, agent):\n",
    "        return self.hider_pos if agent ==HIDER else self.seeker_pos\n",
    "    \n",
    "    def set_agent_pos(self, agent, pos):\n",
    "        if agent ==HIDER:\n",
    "            self.hider_pos  =pos\n",
    "        else:\n",
    "            self.seeker_pos =pos\n",
    "    \n",
    "    def get_percepts(self, agent,vision = 1):\n",
    "        vision = VISION if agent ==HIDER else VISION\n",
    "        pos =self.get_agent_pos(self, agent)\n",
    "        percepts = self.map[\n",
    "            pos[0] - vision : pos[0] + vision + 1,\n",
    "            pos[1] - vision : pos[1] + vision + 1\n",
    "        ]\n",
    "        return percepts \n",
    "\n",
    "    def is_free(self, pos, agent):\n",
    "        map_pos =self.get_map_layout_pos(pos)\n",
    "        if (agent == HIDER):\n",
    "            return (\n",
    "                map_pos in [self.char_mapping[FREE_SPACE], self.char_mapping[SAFE_ZONE]] and\n",
    "                np.all(pos != self.seeker_pos)\n",
    "            )\n",
    "        else:\n",
    "            return map_pos in [self.char_mapping[FREE_SPACE]]\n",
    "            \n",
    "    def move_agent(self, agent, new_pos):\n",
    "        pos = self.get_agent_pos(agent)\n",
    "        self.set_map_pos(pos,self.get_map_layout_pos(pos))\n",
    "        self.set_map_pos(new_pos,self.char_mapping[agent])\n",
    "        self.set_agent_pos( agent, new_pos)\n",
    "\n",
    "    def do_action(self, agent, action):\n",
    "        pos = self.get_agent_pos(agent)\n",
    "        new_pos = pos + ACTIONS[action]\n",
    "        if self.is_free(new_pos, agent):\n",
    "            self.move_agent(agent, new_pos)\n",
    "    \n",
    "    def is_end(self):\n",
    "        return np.all(self.hider_pos == self.seeker_pos)\n",
    "            \n",
    "map = Map(MAP_SIMPLE_NAME,CHAR_MAPPING)"
   ]
  },
  {
   "cell_type": "markdown",
   "metadata": {},
   "source": [
    "## Map visualization"
   ]
  },
  {
   "cell_type": "code",
   "execution_count": 83,
   "metadata": {},
   "outputs": [],
   "source": [
    "def plot_map_jupiter_notebook(map:Map,gen):\n",
    "    clear_output(wait=True)\n",
    "    plt.figure()\n",
    "    plt.title(f\"Generation {gen}\")\n",
    "    plt.imshow(map.map, cmap = matplotlib.colors.ListedColormap(COLOR_MAPPING))\n",
    "    plt.show()\n",
    "    \n",
    "class Map_plot:\n",
    "    def __init__(self, map:Map):\n",
    "        plt.ion()\n",
    "        self.fig, self.ax = plt.subplots()\n",
    "        self.img = self.ax.imshow(map.map , cmap = matplotlib.colors.ListedColormap(COLOR_MAPPING))\n",
    "        \n",
    "    def plot_map(self,map:Map, gen):\n",
    "        self.ax.set_title(f\"Generation {gen}\")\n",
    "        self.img.set_array(map.map)\n",
    "        plt.draw()\n",
    "        self.img.canvas.flush_events()\n",
    "\n",
    "class Map_log:\n",
    "    def __init__(self, log_name):\n",
    "        self.dir = os.path.join(\"logs\",log_name)\n",
    "        self.log_num = 0 \n",
    "        self.logs = []\n",
    "        \n",
    "    def log_map(self,map:Map,gen):\n",
    "        self.log_num = gen\n",
    "        self.logs.append([map.hider_pos,map.seeker_pos])\n",
    "        \n",
    "    def save_and_reset(self):\n",
    "        if not os.path.exists(self.dir):\n",
    "            os.makedirs(self.dir)\n",
    "        np.save(os.path.join(self.dir,str(self.log_num)),self.logs)\n",
    "        self.logs = []"
   ]
  },
  {
   "cell_type": "markdown",
   "metadata": {},
   "source": [
    "## Evaluation"
   ]
  },
  {
   "cell_type": "code",
   "execution_count": 78,
   "metadata": {},
   "outputs": [],
   "source": [
    "def eval_map_state(map:Map):\n",
    "    dist = np.abs(map.hider_pos - map.seeker_pos).sum()\n",
    "\n",
    "    if map.get_map_layout_pos(map.hider_pos) == CHAR_MAPPING[SAFE_ZONE]:\n",
    "        state_hide = 0\n",
    "    elif map.is_end():\n",
    "        state_hide = -100000\n",
    "    elif dist == 1:\n",
    "        state_hide = -1000\n",
    "    else:\n",
    "        state_hide = (map.hider_pos**2).sum()\n",
    "\n",
    "    if  map.is_end():\n",
    "        state_seek = 100000\n",
    "    elif dist == 1:\n",
    "        state_seek = 1000\n",
    "    else:\n",
    "        state_seek = 0\n",
    "    return (state_hide+10, state_seek-10)\n"
   ]
  },
  {
   "cell_type": "markdown",
   "metadata": {},
   "source": [
    "## Policies"
   ]
  },
  {
   "cell_type": "code",
   "execution_count": 79,
   "metadata": {},
   "outputs": [],
   "source": [
    "\n",
    "def random_policy(map:Map, agent, **kwargs):\n",
    "    return np.random.randint(len(ACTIONS))\n",
    "\n",
    "\n",
    "def NN_policy(map:Map, agent, **kwargs):\n",
    "    if agent == SEEKER:\n",
    "        network = kwargs.get(\"seek_net\")\n",
    "        pos = kwargs.get(\"pos_seek\")\n",
    "    else:\n",
    "        network = kwargs.get(\"hide_net\")\n",
    "        pos = kwargs.get(\"pos_hide\")\n",
    "\n",
    "    output = network.activate(map.get_percepts(agent).reshape(-1))\n",
    "    while not map.is_free(pos, agent):\n",
    "        output[np.argmax(output)] = -np.inf\n",
    "    return np.argmax(output)\n"
   ]
  },
  {
   "cell_type": "markdown",
   "metadata": {},
   "source": [
    "## Simulation"
   ]
  },
  {
   "cell_type": "code",
   "execution_count": 80,
   "metadata": {},
   "outputs": [],
   "source": [
    "def simulate_step(map:Map, agent, policy, **kwargs):\n",
    "\n",
    "    action = policy(map, agent, **kwargs)\n",
    "    map.do_action(agent, action)      \n",
    "\n",
    "def simulate(map:Map, map_eval, policy_hide, policy_seek, plot_func=None, num_steps = 100, **kwargs):\n",
    "    SEEK_STATE = 0\n",
    "    HIDE_STATE = 0\n",
    "    map.reset()\n",
    "    scores = np.zeros(2)\n",
    "    for step in range(num_steps):\n",
    "\n",
    "        simulate_step(map, SEEKER, policy_seek, **kwargs)\n",
    "        if(not map.is_end()):\n",
    "            simulate_step(map, HIDER, policy_hide, **kwargs)\n",
    "\n",
    "        if plot_func!=None:\n",
    "            plot_func(map, kwargs.get(\"generation\"))\n",
    "\n",
    "        scores += map_eval(map)\n",
    "\n",
    "        if(map.is_end()):\n",
    "            break\n",
    "    return scores\n"
   ]
  },
  {
   "cell_type": "markdown",
   "metadata": {},
   "source": [
    "### Simulation test\n"
   ]
  },
  {
   "cell_type": "code",
   "execution_count": 81,
   "metadata": {},
   "outputs": [
    {
     "data": {
      "image/png": "[encoded data removed]",
      "text/plain": [
       "<Figure size 432x288 with 1 Axes>"
      ]
     },
     "metadata": {
      "needs_background": "light"
     },
     "output_type": "display_data"
    },
    {
     "data": {
      "text/plain": [
       "array([3588., -500.])"
      ]
     },
     "execution_count": 81,
     "metadata": {},
     "output_type": "execute_result"
    }
   ],
   "source": [
    "simulate(\n",
    "    map, eval_map_state,\n",
    "    random_policy, random_policy,\n",
    "    plot_map_jupiter_notebook,\n",
    "    generation = 1, num_steps=50)"
   ]
  },
  {
   "cell_type": "markdown",
   "metadata": {},
   "source": [
    "### Log test"
   ]
  },
  {
   "cell_type": "code",
   "execution_count": 84,
   "metadata": {},
   "outputs": [],
   "source": [
    "log = Map_log(\"Test\")\n",
    "\n",
    "simulate(\n",
    "    map, eval_map_state,\n",
    "    random_policy, random_policy,\n",
    "    log.log_map,\n",
    "    generation = 1, num_steps=50)\n",
    "\n",
    "log.save_and_reset()"
   ]
},
{
 "cell_type": "code",
 "execution_count": 84,
 "metadata": {},
 "outputs": [],
 "source": [
    "import neat\n",
    "STATE_SEEK = 0\n",
    "def NN_policy(percepts, agent, **kwargs):\n",
    "    perc_flat = percepts.reshape(-1)\n",
    "    #ONE HOT ENCODING TRY\n",
    "    #for percept in percepts.reshape(-1):\n",
    "    #    perc_index = list(CHAR_MAPPING.values()).index(percept)\n",
    "    #    one_hot_single = [0] * len(COLOR_MAPPING)\n",
    "    #    one_hot_single[perc_index] = 1\n",
    "    #    one_hot_input.extend(one_hot_single)\n",
    "    one_hot_in = np.zeros((len(perc_flat), len(COLOR_MAPPING)))\n",
    "    one_hot_in[np.arange(len(perc_flat)), perc_flat + 1] = 1\n",
    "\n",
    "    if agent == \"h\":\n",
    "        network = kwargs.get(\"hide_net\")\n",
    "        pos = kwargs.get(\"pos_hide\")\n",
    "        \n",
    "    else:\n",
    "        network = kwargs.get(\"seek_net\")\n",
    "        pos = kwargs.get(\"pos_seek\")\n",
    "    output = np.copy(network.activate(one_hot_in.reshape(-1)))\n",
    "    #output = np.copy(network.activate(percepts.reshape(-1)/3))\n",
    "    action = np.argmax(output)\n",
    "    new_pos = pos + ACTIONS[action]\n",
    "    #print(new_pos)\n",
    "    #print(agent)\n",
    "    while not is_free(kwargs.get(\"map_env\"), new_pos, agent):\n",
    "        #print(\"NOT_FREE\")\n",
    "        #print(np.argmax(output))\n",
    "        output[np.argmax(output)] = -np.inf\n",
    "        new_pos = pos + ACTIONS[np.argmax(output)]\n",
    "        #print(pos)\n",
    "        #print(\"-\")\n",
    "    #print(\"CHOSEN\")\n",
    "    #print(np.argmax(output))\n",
    "    return np.argmax(output)\n"
   ]
  },
  {
   "cell_type": "code",
   "execution_count": 8,
   "metadata": {},
   "outputs": [
    {
     "name": "stdout",
     "output_type": "stream",
     "text": [
      "\n",
      " ****** Running generation 0 ****** \n",
      "\n"
     ]
    },
    {
     "ename": "RuntimeError",
     "evalue": "Expected 45 inputs, got 0",
     "output_type": "error",
     "traceback": [
      "\u001b[1;31m---------------------------------------------------------------------------\u001b[0m",
      "\u001b[1;31mRuntimeError\u001b[0m                              Traceback (most recent call last)",
      "\u001b[1;32m~\\AppData\\Local\\Temp/ipykernel_25900/4096086100.py\u001b[0m in \u001b[0;36m<module>\u001b[1;34m\u001b[0m\n\u001b[0;32m     75\u001b[0m \u001b[1;33m\u001b[0m\u001b[0m\n\u001b[0;32m     76\u001b[0m \u001b[0mconfig_path\u001b[0m \u001b[1;33m=\u001b[0m \u001b[1;34m'config-feedforward'\u001b[0m\u001b[1;33m\u001b[0m\u001b[1;33m\u001b[0m\u001b[0m\n\u001b[1;32m---> 77\u001b[1;33m \u001b[0mwinner_hide\u001b[0m\u001b[1;33m,\u001b[0m \u001b[0mwinner_seek\u001b[0m\u001b[1;33m,\u001b[0m \u001b[0mconfig\u001b[0m \u001b[1;33m=\u001b[0m \u001b[0mrun_evolution\u001b[0m\u001b[1;33m(\u001b[0m\u001b[0mconfig_path\u001b[0m\u001b[1;33m,\u001b[0m \u001b[0msimple_map\u001b[0m\u001b[1;33m,\u001b[0m \u001b[0mhider_pos\u001b[0m\u001b[1;33m,\u001b[0m \u001b[0mseeker_pos\u001b[0m\u001b[1;33m)\u001b[0m\u001b[1;33m\u001b[0m\u001b[1;33m\u001b[0m\u001b[0m\n\u001b[0m\u001b[0;32m     78\u001b[0m \u001b[1;31m#\u001b[0m\u001b[1;33m\u001b[0m\u001b[1;33m\u001b[0m\u001b[0m\n\u001b[0;32m     79\u001b[0m     \u001b[1;31m##TODO adjust below\u001b[0m\u001b[1;33m\u001b[0m\u001b[1;33m\u001b[0m\u001b[0m\n",
      "\u001b[1;32m~\\AppData\\Local\\Temp/ipykernel_25900/4096086100.py\u001b[0m in \u001b[0;36mrun_evolution\u001b[1;34m(config_file, map_env, start_hide, start_seek, main_it_count)\u001b[0m\n\u001b[0;32m     54\u001b[0m         fit_seek_fixed = functools.partial(fitness_seek, default_map_state = map_env, start_hide = start_hide, \n\u001b[0;32m     55\u001b[0m             start_seek = start_seek, hide_net = winner_hide)\n\u001b[1;32m---> 56\u001b[1;33m         \u001b[0mwinner_seek\u001b[0m \u001b[1;33m=\u001b[0m \u001b[0mseek_pop\u001b[0m\u001b[1;33m.\u001b[0m\u001b[0mrun\u001b[0m\u001b[1;33m(\u001b[0m\u001b[0mfit_seek_fixed\u001b[0m\u001b[1;33m,\u001b[0m \u001b[0mINTER_IT_COUNT\u001b[0m\u001b[1;33m)\u001b[0m\u001b[1;33m\u001b[0m\u001b[1;33m\u001b[0m\u001b[0m\n\u001b[0m\u001b[0;32m     57\u001b[0m         \u001b[1;31m#TODO how to return whole population ?\u001b[0m\u001b[1;33m\u001b[0m\u001b[1;33m\u001b[0m\u001b[0m\n\u001b[0;32m     58\u001b[0m         \u001b[0mseek_pop\u001b[0m \u001b[1;33m=\u001b[0m \u001b[0mneat\u001b[0m\u001b[1;33m.\u001b[0m\u001b[0mcheckpoint\u001b[0m\u001b[1;33m.\u001b[0m\u001b[0mCheckpointer\u001b[0m\u001b[1;33m.\u001b[0m\u001b[0mrestore_checkpoint\u001b[0m\u001b[1;33m(\u001b[0m\u001b[1;34m\"neat-checkpoint-\"\u001b[0m \u001b[1;33m+\u001b[0m \u001b[0mstr\u001b[0m\u001b[1;33m(\u001b[0m \u001b[0mINTER_IT_COUNT\u001b[0m \u001b[1;33m-\u001b[0m \u001b[1;36m1\u001b[0m\u001b[1;33m)\u001b[0m \u001b[1;33m)\u001b[0m\u001b[1;33m\u001b[0m\u001b[1;33m\u001b[0m\u001b[0m\n",
      "\u001b[1;32m~\\AppData\\Local\\Packages\\PythonSoftwareFoundation.Python.3.9_qbz5n2kfra8p0\\LocalCache\\local-packages\\Python39\\site-packages\\neat\\population.py\u001b[0m in \u001b[0;36mrun\u001b[1;34m(self, fitness_function, n)\u001b[0m\n\u001b[0;32m     87\u001b[0m \u001b[1;33m\u001b[0m\u001b[0m\n\u001b[0;32m     88\u001b[0m             \u001b[1;31m# Evaluate all genomes using the user-provided function.\u001b[0m\u001b[1;33m\u001b[0m\u001b[1;33m\u001b[0m\u001b[0m\n\u001b[1;32m---> 89\u001b[1;33m             \u001b[0mfitness_function\u001b[0m\u001b[1;33m(\u001b[0m\u001b[0mlist\u001b[0m\u001b[1;33m(\u001b[0m\u001b[0miteritems\u001b[0m\u001b[1;33m(\u001b[0m\u001b[0mself\u001b[0m\u001b[1;33m.\u001b[0m\u001b[0mpopulation\u001b[0m\u001b[1;33m)\u001b[0m\u001b[1;33m)\u001b[0m\u001b[1;33m,\u001b[0m \u001b[0mself\u001b[0m\u001b[1;33m.\u001b[0m\u001b[0mconfig\u001b[0m\u001b[1;33m)\u001b[0m\u001b[1;33m\u001b[0m\u001b[1;33m\u001b[0m\u001b[0m\n\u001b[0m\u001b[0;32m     90\u001b[0m \u001b[1;33m\u001b[0m\u001b[0m\n\u001b[0;32m     91\u001b[0m             \u001b[1;31m# Gather and report statistics.\u001b[0m\u001b[1;33m\u001b[0m\u001b[1;33m\u001b[0m\u001b[0m\n",
      "\u001b[1;32m~\\AppData\\Local\\Temp/ipykernel_25900/4096086100.py\u001b[0m in \u001b[0;36mfitness_seek\u001b[1;34m(genomes, config, start_hide, start_seek, default_map_state, hide_net)\u001b[0m\n\u001b[0;32m     10\u001b[0m     \u001b[1;32mfor\u001b[0m \u001b[0mgenome_id\u001b[0m\u001b[1;33m,\u001b[0m \u001b[0mgenome\u001b[0m \u001b[1;32min\u001b[0m \u001b[0mgenomes\u001b[0m\u001b[1;33m:\u001b[0m\u001b[1;33m\u001b[0m\u001b[1;33m\u001b[0m\u001b[0m\n\u001b[0;32m     11\u001b[0m         \u001b[0mnet\u001b[0m \u001b[1;33m=\u001b[0m \u001b[0mneat\u001b[0m\u001b[1;33m.\u001b[0m\u001b[0mnn\u001b[0m\u001b[1;33m.\u001b[0m\u001b[0mFeedForwardNetwork\u001b[0m\u001b[1;33m.\u001b[0m\u001b[0mcreate\u001b[0m\u001b[1;33m(\u001b[0m\u001b[0mgenome\u001b[0m\u001b[1;33m,\u001b[0m \u001b[0mconfig\u001b[0m\u001b[1;33m)\u001b[0m\u001b[1;33m\u001b[0m\u001b[1;33m\u001b[0m\u001b[0m\n\u001b[1;32m---> 12\u001b[1;33m         genome.fitness = simulate(default_map_state, start_hide, \n\u001b[0m\u001b[0;32m     13\u001b[0m             \u001b[0mstart_seek\u001b[0m\u001b[1;33m,\u001b[0m \u001b[0mNN_policy\u001b[0m\u001b[1;33m,\u001b[0m \u001b[0mNN_policy\u001b[0m\u001b[1;33m,\u001b[0m \u001b[0mplot_map_jupiter_notebook\u001b[0m\u001b[1;33m,\u001b[0m\u001b[1;33m\u001b[0m\u001b[1;33m\u001b[0m\u001b[0m\n\u001b[0;32m     14\u001b[0m             \u001b[0mnum_steps\u001b[0m \u001b[1;33m=\u001b[0m \u001b[0mFIT_SIMULATION_STEPS\u001b[0m\u001b[1;33m,\u001b[0m\u001b[1;33m\u001b[0m\u001b[1;33m\u001b[0m\u001b[0m\n",
      "\u001b[1;32m~\\AppData\\Local\\Temp/ipykernel_25900/797393082.py\u001b[0m in \u001b[0;36msimulate\u001b[1;34m(map_orig, start_hide, start_seek, policy_hide, policy_seek, plot_func, num_steps, **kwargs)\u001b[0m\n\u001b[0;32m     71\u001b[0m     \u001b[0mscores\u001b[0m \u001b[1;33m=\u001b[0m \u001b[0mnp\u001b[0m\u001b[1;33m.\u001b[0m\u001b[0mzeros\u001b[0m\u001b[1;33m(\u001b[0m\u001b[1;36m2\u001b[0m\u001b[1;33m)\u001b[0m\u001b[1;33m\u001b[0m\u001b[1;33m\u001b[0m\u001b[0m\n\u001b[0;32m     72\u001b[0m     \u001b[1;32mfor\u001b[0m \u001b[0mstep\u001b[0m \u001b[1;32min\u001b[0m \u001b[0mrange\u001b[0m\u001b[1;33m(\u001b[0m\u001b[0mnum_steps\u001b[0m\u001b[1;33m)\u001b[0m\u001b[1;33m:\u001b[0m\u001b[1;33m\u001b[0m\u001b[1;33m\u001b[0m\u001b[0m\n\u001b[1;32m---> 73\u001b[1;33m         \u001b[0mmap_env\u001b[0m\u001b[1;33m,\u001b[0m \u001b[0mpos_hide\u001b[0m\u001b[1;33m,\u001b[0m \u001b[0mpos_seek\u001b[0m \u001b[1;33m=\u001b[0m \u001b[0msimulate_step\u001b[0m\u001b[1;33m(\u001b[0m\u001b[0mmap_env\u001b[0m\u001b[1;33m,\u001b[0m \u001b[0mpos_hide\u001b[0m\u001b[1;33m,\u001b[0m \u001b[0mpos_seek\u001b[0m\u001b[1;33m,\u001b[0m \u001b[0mpolicy_hide\u001b[0m\u001b[1;33m,\u001b[0m \u001b[0mpolicy_seek\u001b[0m\u001b[1;33m,\u001b[0m \u001b[1;33m**\u001b[0m\u001b[0mkwargs\u001b[0m\u001b[1;33m)\u001b[0m\u001b[1;33m\u001b[0m\u001b[1;33m\u001b[0m\u001b[0m\n\u001b[0m\u001b[0;32m     74\u001b[0m         \u001b[1;31m#time.sleep(0.2)\u001b[0m\u001b[1;33m\u001b[0m\u001b[1;33m\u001b[0m\u001b[0m\n\u001b[0;32m     75\u001b[0m         \u001b[1;32mif\u001b[0m \u001b[0mkwargs\u001b[0m\u001b[1;33m.\u001b[0m\u001b[0mget\u001b[0m\u001b[1;33m(\u001b[0m\u001b[1;34m\"plot\"\u001b[0m\u001b[1;33m)\u001b[0m \u001b[1;33m==\u001b[0m \u001b[1;32mTrue\u001b[0m\u001b[1;33m:\u001b[0m\u001b[1;33m\u001b[0m\u001b[1;33m\u001b[0m\u001b[0m\n",
      "\u001b[1;32m~\\AppData\\Local\\Temp/ipykernel_25900/797393082.py\u001b[0m in \u001b[0;36msimulate_step\u001b[1;34m(map_env, pos_hide, pos_seek, policy_hide, policy_seek, **kwargs)\u001b[0m\n\u001b[0;32m     32\u001b[0m \u001b[1;32mdef\u001b[0m \u001b[0msimulate_step\u001b[0m\u001b[1;33m(\u001b[0m\u001b[0mmap_env\u001b[0m\u001b[1;33m,\u001b[0m \u001b[0mpos_hide\u001b[0m\u001b[1;33m,\u001b[0m \u001b[0mpos_seek\u001b[0m\u001b[1;33m,\u001b[0m \u001b[0mpolicy_hide\u001b[0m\u001b[1;33m,\u001b[0m \u001b[0mpolicy_seek\u001b[0m\u001b[1;33m,\u001b[0m \u001b[1;33m**\u001b[0m\u001b[0mkwargs\u001b[0m\u001b[1;33m)\u001b[0m\u001b[1;33m:\u001b[0m\u001b[1;33m\u001b[0m\u001b[1;33m\u001b[0m\u001b[0m\n\u001b[0;32m     33\u001b[0m \u001b[1;33m\u001b[0m\u001b[0m\n\u001b[1;32m---> 34\u001b[1;33m     \u001b[0maction_seek\u001b[0m \u001b[1;33m=\u001b[0m \u001b[0mpolicy_seek\u001b[0m\u001b[1;33m(\u001b[0m\u001b[0mget_percepts\u001b[0m\u001b[1;33m(\u001b[0m\u001b[0mmap_env\u001b[0m\u001b[1;33m,\u001b[0m \u001b[0mpos_seek\u001b[0m\u001b[1;33m,\u001b[0m \u001b[1;34m\"s\"\u001b[0m\u001b[1;33m)\u001b[0m\u001b[1;33m,\u001b[0m \u001b[0magent\u001b[0m \u001b[1;33m=\u001b[0m \u001b[1;34m\"s\"\u001b[0m\u001b[1;33m,\u001b[0m \u001b[0mpos_hide\u001b[0m \u001b[1;33m=\u001b[0m \u001b[0mpos_hide\u001b[0m\u001b[1;33m,\u001b[0m \u001b[0mpos_seek\u001b[0m \u001b[1;33m=\u001b[0m \u001b[0mpos_seek\u001b[0m\u001b[1;33m,\u001b[0m \u001b[0mmap_env\u001b[0m \u001b[1;33m=\u001b[0m \u001b[0mmap_env\u001b[0m\u001b[1;33m,\u001b[0m \u001b[1;33m**\u001b[0m\u001b[0mkwargs\u001b[0m \u001b[1;33m)\u001b[0m\u001b[1;33m\u001b[0m\u001b[1;33m\u001b[0m\u001b[0m\n\u001b[0m\u001b[0;32m     35\u001b[0m     \u001b[0mmap_env\u001b[0m\u001b[1;33m,\u001b[0m \u001b[0mnew_pos_seek\u001b[0m \u001b[1;33m=\u001b[0m \u001b[0mdo_action\u001b[0m\u001b[1;33m(\u001b[0m\u001b[0mmap_env\u001b[0m\u001b[1;33m,\u001b[0m \u001b[0mpos_seek\u001b[0m\u001b[1;33m,\u001b[0m \u001b[0maction_seek\u001b[0m\u001b[1;33m,\u001b[0m \u001b[1;34m\"s\"\u001b[0m\u001b[1;33m)\u001b[0m\u001b[1;33m\u001b[0m\u001b[1;33m\u001b[0m\u001b[0m\n\u001b[0;32m     36\u001b[0m     \u001b[1;32mif\u001b[0m\u001b[1;33m(\u001b[0m\u001b[0mis_end\u001b[0m\u001b[1;33m(\u001b[0m\u001b[0mmap_env\u001b[0m\u001b[1;33m,\u001b[0m \u001b[0mpos_hide\u001b[0m\u001b[1;33m,\u001b[0m \u001b[0mnew_pos_seek\u001b[0m\u001b[1;33m)\u001b[0m\u001b[1;33m)\u001b[0m\u001b[1;33m:\u001b[0m\u001b[1;33m\u001b[0m\u001b[1;33m\u001b[0m\u001b[0m\n",
      "\u001b[1;32m~\\AppData\\Local\\Temp/ipykernel_25900/1746409813.py\u001b[0m in \u001b[0;36mNN_policy\u001b[1;34m(percepts, agent, **kwargs)\u001b[0m\n\u001b[0;32m     20\u001b[0m         \u001b[0mnetwork\u001b[0m \u001b[1;33m=\u001b[0m \u001b[0mkwargs\u001b[0m\u001b[1;33m.\u001b[0m\u001b[0mget\u001b[0m\u001b[1;33m(\u001b[0m\u001b[1;34m\"seek_net\"\u001b[0m\u001b[1;33m)\u001b[0m\u001b[1;33m\u001b[0m\u001b[1;33m\u001b[0m\u001b[0m\n\u001b[0;32m     21\u001b[0m         \u001b[0mpos\u001b[0m \u001b[1;33m=\u001b[0m \u001b[0mkwargs\u001b[0m\u001b[1;33m.\u001b[0m\u001b[0mget\u001b[0m\u001b[1;33m(\u001b[0m\u001b[1;34m\"pos_seek\"\u001b[0m\u001b[1;33m)\u001b[0m\u001b[1;33m\u001b[0m\u001b[1;33m\u001b[0m\u001b[0m\n\u001b[1;32m---> 22\u001b[1;33m     \u001b[0moutput\u001b[0m \u001b[1;33m=\u001b[0m \u001b[0mnp\u001b[0m\u001b[1;33m.\u001b[0m\u001b[0mcopy\u001b[0m\u001b[1;33m(\u001b[0m\u001b[0mnetwork\u001b[0m\u001b[1;33m.\u001b[0m\u001b[0mactivate\u001b[0m\u001b[1;33m(\u001b[0m\u001b[0mnp\u001b[0m\u001b[1;33m.\u001b[0m\u001b[0marray\u001b[0m\u001b[1;33m(\u001b[0m\u001b[0mone_hot_input\u001b[0m\u001b[1;33m)\u001b[0m\u001b[1;33m.\u001b[0m\u001b[0mreshape\u001b[0m\u001b[1;33m(\u001b[0m\u001b[1;33m-\u001b[0m\u001b[1;36m1\u001b[0m\u001b[1;33m)\u001b[0m\u001b[1;33m)\u001b[0m\u001b[1;33m)\u001b[0m\u001b[1;33m\u001b[0m\u001b[1;33m\u001b[0m\u001b[0m\n\u001b[0m\u001b[0;32m     23\u001b[0m     \u001b[1;31m#output = np.copy(network.activate(percepts.reshape(-1)/3))\u001b[0m\u001b[1;33m\u001b[0m\u001b[1;33m\u001b[0m\u001b[0m\n\u001b[0;32m     24\u001b[0m     \u001b[0maction\u001b[0m \u001b[1;33m=\u001b[0m \u001b[0mnp\u001b[0m\u001b[1;33m.\u001b[0m\u001b[0margmax\u001b[0m\u001b[1;33m(\u001b[0m\u001b[0moutput\u001b[0m\u001b[1;33m)\u001b[0m\u001b[1;33m\u001b[0m\u001b[1;33m\u001b[0m\u001b[0m\n",
      "\u001b[1;32m~\\AppData\\Local\\Packages\\PythonSoftwareFoundation.Python.3.9_qbz5n2kfra8p0\\LocalCache\\local-packages\\Python39\\site-packages\\neat\\nn\\feed_forward.py\u001b[0m in \u001b[0;36mactivate\u001b[1;34m(self, inputs)\u001b[0m\n\u001b[0;32m     12\u001b[0m     \u001b[1;32mdef\u001b[0m \u001b[0mactivate\u001b[0m\u001b[1;33m(\u001b[0m\u001b[0mself\u001b[0m\u001b[1;33m,\u001b[0m \u001b[0minputs\u001b[0m\u001b[1;33m)\u001b[0m\u001b[1;33m:\u001b[0m\u001b[1;33m\u001b[0m\u001b[1;33m\u001b[0m\u001b[0m\n\u001b[0;32m     13\u001b[0m         \u001b[1;32mif\u001b[0m \u001b[0mlen\u001b[0m\u001b[1;33m(\u001b[0m\u001b[0mself\u001b[0m\u001b[1;33m.\u001b[0m\u001b[0minput_nodes\u001b[0m\u001b[1;33m)\u001b[0m \u001b[1;33m!=\u001b[0m \u001b[0mlen\u001b[0m\u001b[1;33m(\u001b[0m\u001b[0minputs\u001b[0m\u001b[1;33m)\u001b[0m\u001b[1;33m:\u001b[0m\u001b[1;33m\u001b[0m\u001b[1;33m\u001b[0m\u001b[0m\n\u001b[1;32m---> 14\u001b[1;33m             \u001b[1;32mraise\u001b[0m \u001b[0mRuntimeError\u001b[0m\u001b[1;33m(\u001b[0m\u001b[1;34m\"Expected {0:n} inputs, got {1:n}\"\u001b[0m\u001b[1;33m.\u001b[0m\u001b[0mformat\u001b[0m\u001b[1;33m(\u001b[0m\u001b[0mlen\u001b[0m\u001b[1;33m(\u001b[0m\u001b[0mself\u001b[0m\u001b[1;33m.\u001b[0m\u001b[0minput_nodes\u001b[0m\u001b[1;33m)\u001b[0m\u001b[1;33m,\u001b[0m \u001b[0mlen\u001b[0m\u001b[1;33m(\u001b[0m\u001b[0minputs\u001b[0m\u001b[1;33m)\u001b[0m\u001b[1;33m)\u001b[0m\u001b[1;33m)\u001b[0m\u001b[1;33m\u001b[0m\u001b[1;33m\u001b[0m\u001b[0m\n\u001b[0m\u001b[0;32m     15\u001b[0m \u001b[1;33m\u001b[0m\u001b[0m\n\u001b[0;32m     16\u001b[0m         \u001b[1;32mfor\u001b[0m \u001b[0mk\u001b[0m\u001b[1;33m,\u001b[0m \u001b[0mv\u001b[0m \u001b[1;32min\u001b[0m \u001b[0mzip\u001b[0m\u001b[1;33m(\u001b[0m\u001b[0mself\u001b[0m\u001b[1;33m.\u001b[0m\u001b[0minput_nodes\u001b[0m\u001b[1;33m,\u001b[0m \u001b[0minputs\u001b[0m\u001b[1;33m)\u001b[0m\u001b[1;33m:\u001b[0m\u001b[1;33m\u001b[0m\u001b[1;33m\u001b[0m\u001b[0m\n",
      "\u001b[1;31mRuntimeError\u001b[0m: Expected 45 inputs, got 0"
     ]
    }
   ],
   "source": [
    "#todo fic parttools last two arguments\n",
    "import functools\n",
    "import os\n",
    "FIT_SIMULATION_STEPS = 40\n",
    "INTER_IT_COUNT = 20\n",
    "POP_LEN = 20\n",
    "\n",
    "def fitness_seek(genomes, config, start_hide, start_seek, default_map_state, hide_net):\n",
    "    #print(\"FITNESS SEEK\")\n",
    "    for genome_id, genome in genomes:        \n",
    "        net = neat.nn.FeedForwardNetwork.create(genome, config)\n",
    "        genome.fitness = simulate(default_map_state, start_hide, \n",
    "            start_seek, NN_policy, NN_policy, plot_map_jupiter_notebook,\n",
    "            num_steps = FIT_SIMULATION_STEPS, \n",
    "            seek_net = net,  plot = False,\n",
    "            hide_net = neat.nn.FeedForwardNetwork.create(hide_net, config))[1]\n",
    "\n",
    "def fitness_hide(genomes, config, start_hide, start_seek, default_map_state, seek_net):\n",
    "    #print(\"FITNESS HIDE\")\n",
    "    for genome_id, genome in genomes:        \n",
    "        net = neat.nn.FeedForwardNetwork.create(genome, config)\n",
    "        genome.fitness = simulate(default_map_state, start_hide, \n",
    "            start_seek, NN_policy, NN_policy, plot_map_jupiter_notebook,\n",
    "            num_steps = FIT_SIMULATION_STEPS, \n",
    "            seek_net = neat.nn.FeedForwardNetwork.create(seek_net, config), \n",
    "            hide_net = net, plot = False)[0]\n",
    "\n",
    "def run_evolution(config_file, map_env, start_hide, start_seek,  main_it_count = 80):\n",
    "    # Load configuration.\n",
    "    config = neat.Config(neat.DefaultGenome, neat.DefaultReproduction,\n",
    "                         neat.DefaultSpeciesSet, neat.DefaultStagnation,\n",
    "                         config_file)\n",
    "\n",
    "    # Create the population, which is the top-level object for a NEAT run.\n",
    "    seek_pop = neat.Population(config)\n",
    "    seek_pop.add_reporter(neat.StdOutReporter(True))\n",
    "    stats_s = neat.StatisticsReporter()\n",
    "    seek_pop.add_reporter(stats_s)\n",
    "    seek_pop.add_reporter(neat.Checkpointer(INTER_IT_COUNT))\n",
    "\n",
    "    hide_pop = neat.Population(config)\n",
    "    hide_pop.add_reporter(neat.StdOutReporter(True))\n",
    "    stats_h = neat.StatisticsReporter()\n",
    "    hide_pop.add_reporter(stats_h)\n",
    "    hide_pop.add_reporter(neat.Checkpointer(INTER_IT_COUNT))\n",
    "    #TODO how to init winner\n",
    "    winner_seek = neat.DefaultGenome(config)\n",
    "    winner_hide = neat.DefaultGenome(config)\n",
    "\n",
    "    for it in range(main_it_count):\n",
    "        \n",
    "        # Run for up to 300 generations.\n",
    "        \n",
    "        fit_seek_fixed = functools.partial(fitness_seek, default_map_state = map_env, start_hide = start_hide, \n",
    "            start_seek = start_seek, hide_net = winner_hide)\n",
    "        winner_seek = seek_pop.run(fit_seek_fixed, INTER_IT_COUNT)\n",
    "        #TODO how to return whole population ?\n",
    "        seek_pop = neat.checkpoint.Checkpointer.restore_checkpoint(\"neat-checkpoint-\" + str( INTER_IT_COUNT - 1) )\n",
    "        seek_pop.add_reporter(neat.StdOutReporter(True))\n",
    "        stats_s = neat.StatisticsReporter()\n",
    "        seek_pop.add_reporter(stats_s)\n",
    "\n",
    "        fit_hide_fixed = functools.partial(fitness_hide, default_map_state = map_env, start_hide = start_hide, \n",
    "            start_seek = start_seek, seek_net = winner_seek)\n",
    "        winner_hide = hide_pop.run(fit_hide_fixed, INTER_IT_COUNT)\n",
    "        #TODO how to return whole population ?\n",
    "        #hide_pop = stats_h.best_unique_genomes(POP_LEN)\n",
    "        hide_pop = neat.checkpoint.Checkpointer.restore_checkpoint(\"neat-checkpoint-\" + str( INTER_IT_COUNT - 1) )\n",
    "        hide_pop.add_reporter(neat.StdOutReporter(True))\n",
    "        stats_h = neat.StatisticsReporter()\n",
    "        hide_pop.add_reporter(stats_h)\n",
    "        \n",
    "    return (winner_hide, winner_seek, config)  \n",
    "    \n",
    "\n",
    "config_path = 'config-feedforward'\n",
    "winner_hide, winner_seek, config = run_evolution(config_path, simple_map, hider_pos, seeker_pos)\n",
    "#\n",
    "    ##TODO adjust below\n",
    "    ## Display the winning genome.\n",
    "    #print('\\nBest genome:\\n{!s}'.format(winner))\n",
    "#\n",
    "    ## Show output of the most fit genome against training data.\n",
    "    #print('\\nOutput:')\n",
    "    #winner_net = neat.nn.FeedForwardNetwork.create(winner, config)\n",
    "    ##for xi, xo in zip(xor_inputs, xor_outputs):\n",
    "    ##    output = winner_net.activate(xi)\n",
    "    ##    print(\"input {!r}, expected output {!r}, got {!r}\".format(xi, xo, output))\n",
    "#\n",
    "    #node_names = {-1: 'A', -2: 'B', 0: 'A XOR B'}\n",
    "    #visualize.draw_net(config, winner, True, node_names=node_names)\n",
    "    #visualize.draw_net(config, winner, True, node_names=node_names, prune_unused=True)\n",
    "    #visualize.plot_stats(stats, ylog=False, view=True)\n",
    "    #visualize.plot_species(stats, view=True)\n",
    "#\n",
    "    #p = neat.Checkpointer.restore_checkpoint('neat-checkpoint-4')\n",
    "    #p.run(eval_genomes, 10)"
   ]
  },
  {
   "cell_type": "code",
   "execution_count": null,
   "metadata": {},
   "outputs": [],
   "source": [
    "import warnings\n",
    "\n",
    "import graphviz\n",
    "import matplotlib.pyplot as plt\n",
    "import numpy as np\n",
    "def draw_net(config, genome, view=False, filename=None, node_names=None, show_disabled=True, prune_unused=False,\n",
    "             node_colors=None, fmt='svg'):\n",
    "    \"\"\" Receives a genome and draws a neural network with arbitrary topology. \"\"\"\n",
    "    # Attributes for network nodes.\n",
    "    if graphviz is None:\n",
    "        warnings.warn(\"This display is not available due to a missing optional dependency (graphviz)\")\n",
    "        return\n",
    "\n",
    "    # If requested, use a copy of the genome which omits all components that won't affect the output.\n",
    "    if prune_unused:\n",
    "        genome = genome.get_pruned_copy(config.genome_config)\n",
    "\n",
    "    if node_names is None:\n",
    "        node_names = {}\n",
    "\n",
    "    assert type(node_names) is dict\n",
    "\n",
    "    if node_colors is None:\n",
    "        node_colors = {}\n",
    "\n",
    "    assert type(node_colors) is dict\n",
    "\n",
    "    node_attrs = {\n",
    "        'shape': 'circle',\n",
    "        'fontsize': '9',\n",
    "        'height': '0.2',\n",
    "        'width': '0.2'}\n",
    "\n",
    "    dot = graphviz.Digraph(format=fmt, node_attr=node_attrs)\n",
    "\n",
    "    inputs = set()\n",
    "    for k in config.genome_config.input_keys:\n",
    "        inputs.add(k)\n",
    "        name = node_names.get(k, str(k))\n",
    "        input_attrs = {'style': 'filled', 'shape': 'box', 'fillcolor': node_colors.get(k, 'lightgray')}\n",
    "        dot.node(name, _attributes=input_attrs)\n",
    "\n",
    "    outputs = set()\n",
    "    for k in config.genome_config.output_keys:\n",
    "        outputs.add(k)\n",
    "        name = node_names.get(k, str(k))\n",
    "        node_attrs = {'style': 'filled', 'fillcolor': node_colors.get(k, 'lightblue')}\n",
    "\n",
    "        dot.node(name, _attributes=node_attrs)\n",
    "\n",
    "    used_nodes = set(genome.nodes.keys())\n",
    "    for n in used_nodes:\n",
    "        if n in inputs or n in outputs:\n",
    "            continue\n",
    "\n",
    "        attrs = {'style': 'filled',\n",
    "                 'fillcolor': node_colors.get(n, 'white')}\n",
    "        dot.node(str(n), _attributes=attrs)\n",
    "\n",
    "    for cg in genome.connections.values():\n",
    "        if cg.enabled or show_disabled:\n",
    "            # if cg.input not in used_nodes or cg.output not in used_nodes:\n",
    "            #    continue\n",
    "            input, output = cg.key\n",
    "            a = node_names.get(input, str(input))\n",
    "            b = node_names.get(output, str(output))\n",
    "            style = 'solid' if cg.enabled else 'dotted'\n",
    "            color = 'green' if cg.weight > 0 else 'red'\n",
    "            width = str(0.1 + abs(cg.weight / 5.0))\n",
    "            dot.edge(a, b, _attributes={'style': style, 'color': color, 'penwidth': width})\n",
    "\n",
    "    dot.render(filename, view=view)\n",
    "\n",
    "    return dot"
   ]
  },
  {
   "cell_type": "code",
   "execution_count": null,
   "metadata": {},
   "outputs": [],
   "source": [
    "import visualize\n",
    "res = draw_net(config, winner_hide, True)"
   ]
  },
  {
   "cell_type": "code",
   "execution_count": null,
   "metadata": {},
   "outputs": [
    {
     "data": {
      "image/png": "[encoded data removed]",
      "text/plain": [
       "<Figure size 432x288 with 1 Axes>"
      ]
     },
     "metadata": {
      "needs_background": "light"
     },
     "output_type": "display_data"
    },
    {
     "data": {
      "text/plain": [
       "array([ 34268., -30000.])"
      ]
     },
     "execution_count": 142,
     "metadata": {},
     "output_type": "execute_result"
    }
   ],
   "source": [
    "simulate(simple_map, hider_pos, seeker_pos, random_policy, random_policy, generation = 1, num_steps=50, plot = True)"
   ]
  },
  {
   "cell_type": "code",
   "execution_count": null,
   "metadata": {},
   "outputs": [
    {
     "data": {
      "image/png": "[encoded data removed]",
      "text/plain": [
       "<Figure size 432x288 with 1 Axes>"
      ]
     },
     "metadata": {
      "needs_background": "light"
     },
     "output_type": "display_data"
    },
    {
     "data": {
      "text/plain": [
       "array([ 70494., -60000.])"
      ]
     },
     "execution_count": 157,
     "metadata": {},
     "output_type": "execute_result"
    }
   ],
   "source": [
    "simulate(simple_map, hider_pos, seeker_pos, \n",
    "        NN_policy, NN_policy, num_steps=100,\n",
    "        hide_net = neat.nn.FeedForwardNetwork.create(winner_hide, config), \n",
    "        seek_net = neat.nn.FeedForwardNetwork.create(winner_seek, config),  generation = INTER_IT_COUNT * 20, plot = True)"
   ]
  }
 ],
 "metadata": {
  "interpreter": {
   "hash": "886514321548a8e4bf1926f52a00fecc624bae8348bdf6e4fbd744143dc9ef89"
  },
  "kernelspec": {
   "display_name": "Python 3.9.12 64-bit (windows store)",
   "language": "python",
   "name": "python3"
  },
  "language_info": {
   "codemirror_mode": {
    "name": "ipython",
    "version": 3
   },
   "file_extension": ".py",
   "mimetype": "text/x-python",
   "name": "python",
   "nbconvert_exporter": "python",
   "pygments_lexer": "ipython3",
   "version": "3.9.12"
  },
  "orig_nbformat": 4
 },
 "nbformat": 4,
 "nbformat_minor": 2
}
