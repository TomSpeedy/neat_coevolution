{
 "cells": [
  {
   "cell_type": "code",
   "execution_count": 10,
   "metadata": {},
   "outputs": [],
   "source": [
    "import numpy as np\n",
    "import matplotlib.pyplot as plt\n",
    "import matplotlib\n"
   ]
  },
  {
   "cell_type": "code",
   "execution_count": 11,
   "metadata": {},
   "outputs": [],
   "source": [
    "CHAR_MAPPING = {\n",
    "    \"x\" : -1,\n",
    "    \".\" : 0,\n",
    "    \"H\" : 1,\n",
    "    \"h\" : 2, \n",
    "    \"s\": 3\n",
    "}\n",
    "COLOR_MAPPING = [\"black\", \"white\", \"blue\", \"green\", \"red\"]\n",
    "MAP_SIMPLE_NAME = \"map.txt\"\n",
    "\n",
    "def load_map(mapname, char_mapping):\n",
    "    with open(mapname, 'r') as map_file:\n",
    "        lines = map_file.readlines()\n",
    "        width = int(lines[0])\n",
    "        height = int(lines[1])\n",
    "        map_numbers = [[char_mapping[chr] for chr in row[:-1]] for row in lines[2:]]\n",
    "    return np.array(map_numbers, dtype = np.int32)\n",
    "\n",
    "\n",
    "  \n",
    "    #plt.figure()\n",
    "    #plt.imshow(map , cmap = matplotlib.colors.ListedColormap(COLOR_MAPPING))\n",
    "\n",
    "    #plt.show()\n",
    "\n",
    "simple_map = load_map(MAP_SIMPLE_NAME, CHAR_MAPPING)\n",
    "hider_pos = np.asarray(np.where(simple_map == CHAR_MAPPING[\"h\"])).reshape(2)\n",
    "seeker_pos = np.asarray(np.where(simple_map == CHAR_MAPPING[\"s\"])).reshape(2)\n",
    "#start configuration\n",
    "MAP_START = np.copy(simple_map)\n",
    "MAP_START[hider_pos[0], hider_pos[1]] = CHAR_MAPPING[\".\"]\n",
    "MAP_START[seeker_pos[0], seeker_pos[1]] = CHAR_MAPPING[\".\"]\n",
    "\n",
    "\n"
   ]
  },
  {
   "cell_type": "code",
   "execution_count": 12,
   "metadata": {},
   "outputs": [
    {
     "data": {
      "image/png": "[encoded data removed]",
      "text/plain": [
       "<Figure size 432x288 with 1 Axes>"
      ]
     },
     "metadata": {
      "needs_background": "light"
     },
     "output_type": "display_data"
    },
    {
     "data": {
      "text/plain": [
       "array([0., 0.])"
      ]
     },
     "execution_count": 12,
     "metadata": {},
     "output_type": "execute_result"
    }
   ],
   "source": [
    "f = plt.figure()\n",
    "graph1 = f.add_subplot(211)\n",
    "def plot_map(map):\n",
    "    clear_output(wait=True)\n",
    "    plt.figure()\n",
    "    plt.imshow(map , cmap = matplotlib.colors.ListedColormap(COLOR_MAPPING))\n",
    "    plt.show()\n",
    "\n",
    "def get_percepts(map_env, pos, agent = \"h\"):\n",
    "    VISION = 1\n",
    "    return map_env [pos[0] - VISION : pos[0] + VISION, pos[1] - VISION : pos[1] + VISION]\n",
    "\n",
    "ACTIONS = [[0,0], [-1,0], [1, 0], [0, -1], [0, 1]]\n",
    "\n",
    "def is_free(map_env, pos, agent):\n",
    "    if (agent == \"h\"):\n",
    "        return map_env[pos[0], pos[1]] in [CHAR_MAPPING[\".\"], CHAR_MAPPING[\"H\"], CHAR_MAPPING[\"h\"]]\n",
    "    return map_env[pos[0], pos[1]] in [CHAR_MAPPING[\".\"], CHAR_MAPPING[\"s\"]]\n",
    "\n",
    "\n",
    "def do_action(map_env, pos, action, agent):\n",
    "    new_pos = pos + ACTIONS[action]\n",
    "    #print(new_pos)\n",
    "    if is_free(map_env, new_pos, agent) and not np.all(new_pos == pos):\n",
    "        #print(True)\n",
    "        map_env[new_pos[0], new_pos[1]] = CHAR_MAPPING[agent]\n",
    "        map_env[pos[0], pos[1]] = MAP_START[pos[0], pos[1]]\n",
    "        return map_env, new_pos\n",
    "    else:\n",
    "        #print(False)\n",
    "        return map_env, pos\n",
    "\n",
    "\n",
    "\n",
    "\n",
    "def simulate_step(map_env, pos_hide, pos_seek, policy_hide, policy_seek, **kwargs):\n",
    "\n",
    "    action_hide = policy_hide(get_percepts(map_env, pos_hide, \"h\"),\"s\", **kwargs)\n",
    "    map_env, new_pos_hide = do_action(map_env, pos_hide, action_hide, \"h\")\n",
    "    action_seek = policy_seek(get_percepts(map_env, pos_seek, \"s\"), \"s\", **kwargs)\n",
    "    map_env, new_pos_seek = do_action(map_env, pos_seek, action_seek, \"s\")\n",
    "    return (map_env, new_pos_hide, new_pos_seek)\n",
    "\n",
    "import time\n",
    "from IPython.display import clear_output\n",
    "def eval_map_state(_, _1, _2):\n",
    "    #TODO \n",
    "    return 0\n",
    "\n",
    "def is_end(map_env, pos_hide, pos_seek):\n",
    "    return False\n",
    "\n",
    "def simulate(map_orig, start_hide, start_seek, policy_hide, policy_seek, num_steps = 100, **kwargs):\n",
    "    pos_hide, pos_seek = start_hide, start_seek\n",
    "    map_env = np.copy(map_orig)\n",
    "    scores = np.zeros(2)\n",
    "    for step in range(num_steps):\n",
    "        map_env, pos_hide, pos_seek = simulate_step(map_env, pos_hide, pos_seek, policy_hide, policy_seek, **kwargs)\n",
    "        time.sleep(0.03)\n",
    "        plot_map(map_env)\n",
    "        scores += eval_map_state(map_env, pos_hide, pos_seek)\n",
    "        if(is_end(map_env, pos_hide, pos_seek)):\n",
    "            break\n",
    "    return scores\n",
    "\n",
    "def random_policy(percepts, agent, **kwargs):\n",
    "    return np.random.randint(len(ACTIONS))\n",
    "#print(simple_map)\n",
    "\n",
    "simulate(simple_map, hider_pos, seeker_pos, random_policy, random_policy)\n"
   ]
  },
  {
   "cell_type": "code",
   "execution_count": 13,
   "metadata": {},
   "outputs": [],
   "source": [
    "\n",
    "import neat\n",
    "\n",
    "def NN_policy(percepts, agent, **kwargs):\n",
    "    if agent == \"h\":\n",
    "        network = kwargs.get(\"seek_net\")\n",
    "    else:\n",
    "        network = kwargs.get(\"hide_net\")\n",
    "    output = network.activate(percepts.reshape(-1))\n",
    "    return np.argmax(output)\n"
   ]
  },
  {
   "cell_type": "code",
   "execution_count": 14,
   "metadata": {},
   "outputs": [
    {
     "ename": "SyntaxError",
     "evalue": "invalid syntax (Temp/ipykernel_26084/3552418312.py, line 18)",
     "output_type": "error",
     "traceback": [
      "\u001b[1;36m  File \u001b[1;32m\"C:\\Users\\celko\\AppData\\Local\\Temp/ipykernel_26084/3552418312.py\"\u001b[1;36m, line \u001b[1;32m18\u001b[0m\n\u001b[1;33m    def run_evolution(config_file, map_env, start_hide  main_it_count = 20):\u001b[0m\n\u001b[1;37m                                                        ^\u001b[0m\n\u001b[1;31mSyntaxError\u001b[0m\u001b[1;31m:\u001b[0m invalid syntax\n"
     ]
    }
   ],
   "source": [
    "#todo fic parttools last two arguments\n",
    "import functools\n",
    "\n",
    "def fitness_seek(genomes, config, start_hide, start_seek, default_map_state, hider_net):\n",
    "    for genome_id, genome in genomes:        \n",
    "        net = neat.nn.FeedForwardNetwork.create(genome, config)\n",
    "        genome.fitness = simulate(default_map_state, start_hide, \n",
    "            start_seek, NN_policy, NN_policy, \n",
    "            num_steps = 100, seek_net = net, hider_net = hider_net)[1]\n",
    "\n",
    "def fitness_hide(genomes, config, start_hide, start_seek, default_map_state, seek_net):\n",
    "    for genome_id, genome in genomes:        \n",
    "        net = neat.nn.FeedForwardNetwork.create(genome, config)\n",
    "        genome.fitness = simulate(default_map_state, start_hide, \n",
    "            start_seek, NN_policy, NN_policy, \n",
    "            num_steps = 100, seek_net = seek_net, hider_net = net)[0]\n",
    "\n",
    "def run_evolution(config_file, map_env, start_hide, start_seek,  main_it_count = 20):\n",
    "    # Load configuration.\n",
    "    config = neat.Config(neat.DefaultGenome, neat.DefaultReproduction,\n",
    "                         neat.DefaultSpeciesSet, neat.DefaultStagnation,\n",
    "                         config_file)\n",
    "\n",
    "    # Create the population, which is the top-level object for a NEAT run.\n",
    "    seek_pop = neat.Population(config)\n",
    "    hide_pop = neat.Population(config)\n",
    "    seek_pop.add_reporter(neat.StdOutReporter(True))\n",
    "    stats = neat.StatisticsReporter()\n",
    "    seek_pop.add_reporter(stats)\n",
    "    seek_pop.add_reporter(neat.Checkpointer(5))\n",
    "    #TODO how to init winner\n",
    "    winner_seek = seek_pop[0]\n",
    "    winner_hide = hide_pop[0]\n",
    "    for _ in range(main_it_count):\n",
    "             \n",
    "        # Run for up to 300 generations.\n",
    "        #TODO how to return whole population ?\n",
    "        fit_seek_fixed = functools.partial(fitness_seek, default_map_state = map_env, hider_net = winner_hide)\n",
    "        winner_seek = seek_pop.run(fit_seek_fixed, 10)\n",
    "        fit_hide_fixed = functools.partial(fitness_hide, default_map_state = map_env, seek_net = winner_seek)\n",
    "        winner_hide = seek_pop.run(fit_seek_fixed, 10)\n",
    "    \n",
    "\n",
    "\n",
    "    #TODO adjust below\n",
    "    # Display the winning genome.\n",
    "    print('\\nBest genome:\\n{!s}'.format(winner))\n",
    "\n",
    "    # Show output of the most fit genome against training data.\n",
    "    print('\\nOutput:')\n",
    "    winner_net = neat.nn.FeedForwardNetwork.create(winner, config)\n",
    "    #for xi, xo in zip(xor_inputs, xor_outputs):\n",
    "    #    output = winner_net.activate(xi)\n",
    "    #    print(\"input {!r}, expected output {!r}, got {!r}\".format(xi, xo, output))\n",
    "\n",
    "    node_names = {-1: 'A', -2: 'B', 0: 'A XOR B'}\n",
    "    visualize.draw_net(config, winner, True, node_names=node_names)\n",
    "    visualize.draw_net(config, winner, True, node_names=node_names, prune_unused=True)\n",
    "    visualize.plot_stats(stats, ylog=False, view=True)\n",
    "    visualize.plot_species(stats, view=True)\n",
    "\n",
    "    p = neat.Checkpointer.restore_checkpoint('neat-checkpoint-4')\n",
    "    p.run(eval_genomes, 10)"
   ]
  }
 ],
 "metadata": {
  "interpreter": {
   "hash": "886514321548a8e4bf1926f52a00fecc624bae8348bdf6e4fbd744143dc9ef89"
  },
  "kernelspec": {
   "display_name": "Python 3.9.12 64-bit (windows store)",
   "language": "python",
   "name": "python3"
  },
  "language_info": {
   "codemirror_mode": {
    "name": "ipython",
    "version": 3
   },
   "file_extension": ".py",
   "mimetype": "text/x-python",
   "name": "python",
   "nbconvert_exporter": "python",
   "pygments_lexer": "ipython3",
   "version": "3.9.12"
  },
  "orig_nbformat": 4
 },
 "nbformat": 4,
 "nbformat_minor": 2
}
